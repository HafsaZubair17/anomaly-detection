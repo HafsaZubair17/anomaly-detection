{
  "nbformat": 4,
  "nbformat_minor": 0,
  "metadata": {
    "colab": {
      "provenance": [],
      "authorship_tag": "ABX9TyO+he3HZbHWC714ftGnjEKf",
      "include_colab_link": true
    },
    "kernelspec": {
      "name": "python3",
      "display_name": "Python 3"
    },
    "language_info": {
      "name": "python"
    }
  },
  "cells": [
    {
      "cell_type": "markdown",
      "metadata": {
        "id": "view-in-github",
        "colab_type": "text"
      },
      "source": [
        "<a href=\"https://colab.research.google.com/github/RitikaHiremath/DataScience/blob/main/loss_function.ipynb\" target=\"_parent\"><img src=\"https://colab.research.google.com/assets/colab-badge.svg\" alt=\"Open In Colab\"/></a>"
      ]
    },
    {
      "cell_type": "code",
      "execution_count": 1,
      "metadata": {
        "id": "7Q8N7U5-HYMi"
      },
      "outputs": [],
      "source": [
        "import tensorflow as tf\n",
        "from tensorflow.keras.losses import Loss\n",
        "\n",
        "class CustomLoss(Loss):\n",
        "    def __init__(self, name=\"custom_loss\"):\n",
        "        super().__init__(name=name)\n",
        "\n",
        "    def call(self, y_true, y_pred):\n",
        "        main_loss = tf.keras.losses.binary_crossentropy(y_true, y_pred)\n",
        "        auxiliary_loss = self.calculate_auxiliary_loss(y_true, y_pred)\n",
        "        total_loss = main_loss + auxiliary_loss\n",
        "        return total_loss\n",
        "\n",
        "    def calculate_auxiliary_loss(self, y_true, y_pred):\n",
        "        mse_loss = tf.keras.losses.mean_squared_error(y_true, y_pred)\n",
        "        return mse_loss\n"
      ]
    }
  ]
}