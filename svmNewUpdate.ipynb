{
  "nbformat": 4,
  "nbformat_minor": 0,
  "metadata": {
    "colab": {
      "provenance": [],
      "authorship_tag": "ABX9TyNe1g+aaw/k5wCW1lHEEQHJ",
      "include_colab_link": true
    },
    "kernelspec": {
      "name": "python3",
      "display_name": "Python 3"
    },
    "language_info": {
      "name": "python"
    }
  },
  "cells": [
    {
      "cell_type": "markdown",
      "metadata": {
        "id": "view-in-github",
        "colab_type": "text"
      },
      "source": [
        "<a href=\"https://colab.research.google.com/github/RitikaHiremath/DataScience/blob/main/svmNewUpdate.ipynb\" target=\"_parent\"><img src=\"https://colab.research.google.com/assets/colab-badge.svg\" alt=\"Open In Colab\"/></a>"
      ]
    },
    {
      "cell_type": "code",
      "execution_count": 1,
      "metadata": {
        "colab": {
          "base_uri": "https://localhost:8080/"
        },
        "id": "omHWV6IaVPhM",
        "outputId": "4a552908-9e01-4449-99da-3edeef8ff334"
      },
      "outputs": [
        {
          "output_type": "stream",
          "name": "stdout",
          "text": [
            "Mounted at /content/gdrive\n"
          ]
        }
      ],
      "source": [
        "from google.colab import drive\n",
        "drive.mount('/content/gdrive')"
      ]
    },
    {
      "cell_type": "code",
      "execution_count": 2,
      "metadata": {
        "id": "r_XW9MCijyRM"
      },
      "outputs": [],
      "source": [
        "import pandas as pd\n",
        "import os\n",
        "from sklearn.preprocessing import StandardScaler\n",
        "import numpy as np\n",
        "\n",
        "def load_and_label_data(base_path, label, max_files=None):\n",
        "    combined_100KHzdata = []\n",
        "    combined_2000KHzdata = []\n",
        "\n",
        "    file_counter = 0\n",
        "\n",
        "    for timestamp_folder in os.listdir(base_path):\n",
        "        if max_files and file_counter >= max_files:\n",
        "            break\n",
        "\n",
        "        timestamp_folder_path = os.path.join(base_path, timestamp_folder, \"raw\")\n",
        "        timestamp = timestamp_folder.split('_')[0] + '_' + timestamp_folder.split('_')[1]\n",
        "        timestamp = pd.to_datetime(timestamp, format='%Y.%m.%d_%H.%M.%S')\n",
        "\n",
        "        # Process 2000KHz data\n",
        "        df_2000KHz = pd.read_parquet(os.path.join(timestamp_folder_path, \"Sampling2000KHz_AEKi-0.parquet\"))\n",
        "        df_2000KHz_grouped = df_2000KHz.groupby(df_2000KHz.index // 10000).mean().reset_index(drop=True)\n",
        "        df_2000KHz_grouped['timestamp'] = timestamp + pd.to_timedelta(df_2000KHz_grouped.index, unit='ms')\n",
        "        df_2000KHz_grouped['label'] = label\n",
        "\n",
        "        # Process 100KHz data\n",
        "        df_100KHz = pd.read_parquet(os.path.join(timestamp_folder_path, \"Sampling100KHz_Irms_Grinding-Grinding spindle current L1-Grinding spindle current L2-Grinding spindle current L3-0.parquet\"))\n",
        "        df_100KHz_grouped = df_100KHz.groupby(df_100KHz.index // 10000).mean().reset_index(drop=True)\n",
        "        df_100KHz_grouped['timestamp'] = timestamp + pd.to_timedelta(df_100KHz_grouped.index, unit='ms')\n",
        "        df_100KHz_grouped['label'] = label\n",
        "\n",
        "        combined_100KHzdata.append(df_100KHz_grouped)\n",
        "        combined_2000KHzdata.append(df_2000KHz_grouped)\n",
        "\n",
        "        file_counter += 1\n",
        "\n",
        "    final_combined_100KHzdata = pd.concat(combined_100KHzdata, ignore_index=True)\n",
        "    final_combined_2000KHzdata = pd.concat(combined_2000KHzdata, ignore_index=True)\n",
        "\n",
        "    return final_combined_100KHzdata, final_combined_2000KHzdata\n",
        "\n",
        "def preprocess_data(ok_data_path, nok_data_path):\n",
        "    ok_100KHzdata, ok_2000KHzdata = load_and_label_data(ok_data_path, label=0)\n",
        "    nok_100KHzdata, nok_2000KHzdata = load_and_label_data(nok_data_path, label=1)\n",
        "\n",
        "    all_100KHzdata = pd.concat([ok_100KHzdata, nok_100KHzdata], ignore_index=True)\n",
        "    all_2000KHzdata = pd.concat([ok_2000KHzdata, nok_2000KHzdata], ignore_index=True)\n",
        "\n",
        "    return all_100KHzdata, all_2000KHzdata\n",
        "\n",
        "def combine_and_interpolate_data(data_100KHz, data_2000KHz):\n",
        "    # Merge on timestamp\n",
        "    combined_data = pd.merge_asof(data_100KHz.sort_values('timestamp'),\n",
        "                                  data_2000KHz.sort_values('timestamp'),\n",
        "                                  on='timestamp',\n",
        "                                  by='label',\n",
        "                                  direction='nearest')\n",
        "\n",
        "    # Interpolate to fill missing values\n",
        "    combined_data = combined_data.interpolate(method='linear').fillna(method='bfill').fillna(method='ffill')\n",
        "\n",
        "    return combined_data\n",
        "def normalize_data(combined_data):\n",
        "    features = combined_data.drop(columns=['timestamp', 'label'])\n",
        "    timestamps = combined_data['timestamp']\n",
        "    labels = combined_data['label']\n",
        "\n",
        "    scaler = StandardScaler()\n",
        "    normalized_features = scaler.fit_transform(features)\n",
        "\n",
        "    normalized_data = pd.DataFrame(normalized_features, columns=features.columns)\n",
        "    normalized_data.insert(0, 'timestamp', timestamps)\n",
        "    normalized_data['label'] = labels.values\n",
        "\n",
        "    return normalized_data\n"
      ]
    },
    {
      "cell_type": "code",
      "source": [
        "import matplotlib.pyplot as plt\n",
        "from sklearn.utils import shuffle\n",
        "from sklearn.metrics import classification_report, accuracy_score, precision_score, recall_score, f1_score, confusion_matrix, ConfusionMatrixDisplay\n",
        "\n",
        "def evaluate_model(model, X, y):\n",
        "    y_pred = model.predict(X)\n",
        "    y_pred_classes = (y_pred > 0.5).astype(\"int32\")\n",
        "\n",
        "    # Calculate accuracy precision, recall, and F1 score\n",
        "    accuracy = accuracy_score (y, y_pred_classes)\n",
        "    precision = precision_score(y, y_pred_classes)\n",
        "    recall = recall_score(y, y_pred_classes)\n",
        "    f1 = f1_score(y, y_pred_classes)\n",
        "\n",
        "    # Print the classification report\n",
        "    print(classification_report(y, y_pred_classes))\n",
        "\n",
        "    # Plot confusion matrix\n",
        "    cm = confusion_matrix(y, y_pred_classes)\n",
        "    disp = ConfusionMatrixDisplay(confusion_matrix=cm, display_labels=[0, 1])\n",
        "    disp.plot(cmap=plt.cm.Blues)\n",
        "    plt.show()\n",
        "\n",
        "    return accuracy, precision, recall, f1"
      ],
      "metadata": {
        "id": "vQDZSF-ImM2F"
      },
      "execution_count": 3,
      "outputs": []
    },
    {
      "cell_type": "code",
      "source": [
        "import pandas as pd\n",
        "from sklearn.utils import shuffle\n",
        "\n",
        "# Define paths to data\n",
        "ok_data_path = '/content/gdrive/MyDrive/Data/OK_Measurements'\n",
        "nok_data_path = '/content/gdrive/MyDrive/Data/NOK_Measurements'\n",
        "\n",
        "# Preprocess data\n",
        "all_100KHzdata, all_2000KHzdata = preprocess_data(ok_data_path, nok_data_path)\n",
        "\n",
        "# Combine and interpolate data\n",
        "combined_data = combine_and_interpolate_data(all_100KHzdata, all_2000KHzdata)\n",
        "\n",
        "# Normalize data\n",
        "normalized_data = normalize_data(combined_data)\n",
        "\n",
        "# Shuffle the combined data\n",
        "normalized_data = shuffle(normalized_data, random_state=42)\n",
        "\n",
        "# normalized_data.head()"
      ],
      "metadata": {
        "id": "XgO0ITh1VzAz"
      },
      "execution_count": 4,
      "outputs": []
    },
    {
      "cell_type": "code",
      "source": [
        "# https://www.geeksforgeeks.org/random-forest-classifier-using-scikit-learn/\n",
        "\n",
        "from sklearn.svm import SVC\n",
        "from sklearn.model_selection import train_test_split\n",
        "\n",
        "# split the data into train and test data\n",
        "X=normalized_data.iloc[:,1:-1]\n",
        "y=normalized_data['label']\n",
        "X_train, X_test, y_train, y_test = train_test_split(X, y, test_size=0.3, random_state= 42)\n",
        "\n",
        "#train the model\n",
        "svm = SVC(kernel='poly', C=1.5, random_state=42)\n",
        "\n",
        "svm.fit(X_train, y_train)\n",
        "\n",
        "# Evaluate the model on training data\n",
        "train_accuracy, train_precision, train_recall, train_f1 = evaluate_model(svm, X_train, y_train)\n",
        "print(f\"Training Accuracy: {train_accuracy*100:.2f}%, Training Precision: {train_precision:.2f}, Training Recall: {train_recall:.2f}, Training F1 Score: {train_f1:.2f}\")\n",
        "\n",
        "# Evaluate the model on test data\n",
        "test_accuracy, test_precision, test_recall, test_f1 = evaluate_model(svm, X_test, y_test)\n",
        "print(f\"Test Accuracy: {test_accuracy*100:.2f}%, Test Precision: {test_precision:.2f}, Test Recall: {test_recall:.2f}, Test F1 Score: {test_f1:.2f}\")\n",
        "\n",
        "# Create a results table\n",
        "results = {\n",
        "    \"Dataset\": [\"Training\", \"Test\"],\n",
        "    \"Accuracy\": [train_accuracy, test_accuracy],\n",
        "    \"Precision\": [train_precision, test_precision],\n",
        "    \"Recall\": [train_recall, test_recall],\n",
        "    \"F1 Score\": [train_f1, test_f1]\n",
        "}\n",
        "\n",
        "results_df = pd.DataFrame(results)\n",
        "print(\"\\nResults Summary:\")\n",
        "print(results_df)"
      ],
      "metadata": {
        "id": "We3yPMwZZZBh",
        "colab": {
          "base_uri": "https://localhost:8080/",
          "height": 1000
        },
        "outputId": "6bd979ef-28d7-401c-9094-803fd4c13724"
      },
      "execution_count": 5,
      "outputs": [
        {
          "output_type": "stream",
          "name": "stdout",
          "text": [
            "              precision    recall  f1-score   support\n",
            "\n",
            "           0       0.71      0.94      0.81      4615\n",
            "           1       0.88      0.56      0.68      3908\n",
            "\n",
            "    accuracy                           0.76      8523\n",
            "   macro avg       0.80      0.75      0.75      8523\n",
            "weighted avg       0.79      0.76      0.75      8523\n",
            "\n"
          ]
        },
        {
          "output_type": "display_data",
          "data": {
            "text/plain": [
              "<Figure size 640x480 with 2 Axes>"
            ],
            "image/png": "[encoded data removed]"
          },
          "metadata": {}
        },
        {
          "output_type": "stream",
          "name": "stdout",
          "text": [
            "Training Accuracy: 76.35%, Training Precision: 0.88, Training Recall: 0.56, Training F1 Score: 0.68\n",
            "              precision    recall  f1-score   support\n",
            "\n",
            "           0       0.72      0.94      0.82      1992\n",
            "           1       0.89      0.56      0.69      1662\n",
            "\n",
            "    accuracy                           0.77      3654\n",
            "   macro avg       0.80      0.75      0.75      3654\n",
            "weighted avg       0.80      0.77      0.76      3654\n",
            "\n"
          ]
        },
        {
          "output_type": "display_data",
          "data": {
            "text/plain": [
              "<Figure size 640x480 with 2 Axes>"
            ],
            "image/png": "[encoded data removed]"
          },
          "metadata": {}
        },
        {
          "output_type": "stream",
          "name": "stdout",
          "text": [
            "Test Accuracy: 76.87%, Test Precision: 0.89, Test Recall: 0.56, Test F1 Score: 0.69\n",
            "\n",
            "Results Summary:\n",
            "    Dataset  Accuracy  Precision    Recall  F1 Score\n",
            "0  Training  0.763464   0.883617  0.557574  0.683715\n",
            "1      Test  0.768747   0.887939  0.562575  0.688766\n"
          ]
        }
      ]
    }
  ]
}