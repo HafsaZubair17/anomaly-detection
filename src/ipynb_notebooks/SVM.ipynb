{
  "nbformat": 4,
  "nbformat_minor": 0,
  "metadata": {
    "colab": {
      "provenance": []
    },
    "kernelspec": {
      "name": "python3",
      "display_name": "Python 3"
    },
    "language_info": {
      "name": "python"
    }
  },
  "cells": [
    {
      "cell_type": "code",
      "execution_count": 2,
      "metadata": {
        "colab": {
          "base_uri": "https://localhost:8080/"
        },
        "id": "iMK3pgVGm3j1",
        "outputId": "370bdd02-bfe6-4b4d-eddf-dc4bcd478b2a"
      },
      "outputs": [
        {
          "output_type": "stream",
          "name": "stdout",
          "text": [
            "Mounted at /content/gdrive\n"
          ]
        }
      ],
      "source": [
        "from google.colab import drive\n",
        "drive.mount('/content/gdrive')"
      ]
    },
    {
      "cell_type": "code",
      "source": [
        "import pandas as pd\n",
        "import os\n",
        "\n",
        "def load_and_label_data(base_path, label, max_files=None):\n",
        "    combined_100KHzdata = []\n",
        "    combined_2000KHzdata = []\n",
        "\n",
        "    # Initialize a counter\n",
        "    file_counter = 0\n",
        "\n",
        "    # Iterate over each timestamped folder\n",
        "    for timestamp_folder in os.listdir(base_path):\n",
        "        if max_files and file_counter >= max_files:\n",
        "            break\n",
        "\n",
        "        timestamp_folder_path = os.path.join(base_path, timestamp_folder, \"raw\")\n",
        "\n",
        "        # Extract the full timestamp from the folder name and convert to datetime format\n",
        "        timestamp = timestamp_folder.split('_')[0] + '_' + timestamp_folder.split('_')[1]\n",
        "        timestamp = pd.to_datetime(timestamp, format='%Y.%m.%d_%H.%M.%S')\n",
        "        print(timestamp_folder_path)\n",
        "        # Load the 2000KHz data\n",
        "        df_2000KHz = pd.read_parquet(os.path.join(timestamp_folder_path, \"Sampling2000KHz_AEKi-0.parquet\"))\n",
        "        mean_2000KHz = df_2000KHz.mean().to_frame().T\n",
        "        mean_2000KHz['timestamp'] = timestamp\n",
        "        mean_2000KHz['label'] = label\n",
        "\n",
        "        # Load the 100KHz data\n",
        "        df_100KHz = pd.read_parquet(os.path.join(timestamp_folder_path, \"Sampling100KHz_Irms_Grinding-Grinding spindle current L1-Grinding spindle current L2-Grinding spindle current L3-0.parquet\"))\n",
        "        mean_100KHz = df_100KHz.mean().to_frame().T\n",
        "        mean_100KHz['timestamp'] = timestamp\n",
        "        mean_100KHz['label'] = label\n",
        "\n",
        "        # Append the mean data to the combined lists\n",
        "        combined_100KHzdata.append(mean_100KHz)\n",
        "        combined_2000KHzdata.append(mean_2000KHz)\n",
        "\n",
        "        # Increment the counter\n",
        "        file_counter += 1\n",
        "\n",
        "    # Combine all the mean data into a single dataframe\n",
        "    final_combined_100KHzdata = pd.concat(combined_100KHzdata, ignore_index=True)\n",
        "    final_combined_2000KHzdata = pd.concat(combined_2000KHzdata, ignore_index=True)\n",
        "\n",
        "    return final_combined_100KHzdata, final_combined_2000KHzdata\n",
        "\n",
        "\n",
        "# Define the paths to the OK and NOK data directories\n",
        "ok_data_path = '/content/gdrive/MyDrive/Data/OK_Measurements'\n",
        "nok_data_path = '/content/gdrive/MyDrive/Data/NOK_Measurements'\n",
        "\n",
        "# Load OK and NOK data\n",
        "ok_100KHzdata, ok_2000KHzdata = load_and_label_data(ok_data_path, label=0)\n",
        "nok_100KHzdata, nok_2000KHzdata = load_and_label_data(nok_data_path, label=1)\n",
        "# Combine OK and NOK data\n",
        "all_100KHzdata = pd.concat([ok_100KHzdata, nok_100KHzdata], ignore_index=True)\n",
        "all_2000KHzdata = pd.concat([ok_2000KHzdata, nok_2000KHzdata], ignore_index=True)\n",
        "\n",
        "# Print the first few rows of the combined data for inspection\n",
        "print(\"Combined 100KHz Data Sample (Mean):\")\n",
        "print(all_100KHzdata.head())\n",
        "print(\"\\nCombined 2000KHz Data Sample (Mean):\")\n",
        "print(all_2000KHzdata.head())\n"
      ],
      "metadata": {
        "colab": {
          "base_uri": "https://localhost:8080/"
        },
        "id": "qJmFCqSXnWpJ",
        "outputId": "0d657961-8523-4330-bc98-183146e66169"
      },
      "execution_count": 12,
      "outputs": [
        {
          "output_type": "stream",
          "name": "stdout",
          "text": [
            "/content/gdrive/MyDrive/Data/OK_Measurements/2024.02.14_22.14.16_Grinding/raw\n",
            "/content/gdrive/MyDrive/Data/OK_Measurements/2024.02.14_22.11.43_Grinding/raw\n",
            "/content/gdrive/MyDrive/Data/OK_Measurements/2024.02.14_22.05.15_Grinding/raw\n",
            "/content/gdrive/MyDrive/Data/OK_Measurements/2024.02.14_22.13.15_Grinding/raw\n",
            "/content/gdrive/MyDrive/Data/OK_Measurements/2024.02.14_22.03.13_Grinding/raw\n",
            "/content/gdrive/MyDrive/Data/OK_Measurements/2024.02.14_22.09.41_Grinding/raw\n",
            "/content/gdrive/MyDrive/Data/OK_Measurements/2024.02.14_22.00.40_Grinding/raw\n",
            "/content/gdrive/MyDrive/Data/OK_Measurements/2024.02.14_22.08.48_Grinding/raw\n",
            "/content/gdrive/MyDrive/Data/OK_Measurements/2024.02.14_22.12.44_Grinding/raw\n",
            "/content/gdrive/MyDrive/Data/OK_Measurements/2024.02.14_22.06.46_Grinding/raw\n",
            "/content/gdrive/MyDrive/Data/OK_Measurements/2024.02.14_22.02.12_Grinding/raw\n",
            "/content/gdrive/MyDrive/Data/OK_Measurements/2024.02.14_22.01.11_Grinding/raw\n",
            "/content/gdrive/MyDrive/Data/OK_Measurements/2024.02.14_22.04.44_Grinding/raw\n",
            "/content/gdrive/MyDrive/Data/OK_Measurements/2024.02.14_22.10.12_Grinding/raw\n",
            "/content/gdrive/MyDrive/Data/OK_Measurements/2024.02.14_22.01.41_Grinding/raw\n",
            "/content/gdrive/MyDrive/Data/OK_Measurements/2024.02.14_22.07.16_Grinding/raw\n",
            "/content/gdrive/MyDrive/Data/OK_Measurements/2024.02.14_22.06.15_Grinding/raw\n",
            "/content/gdrive/MyDrive/Data/OK_Measurements/2024.02.14_22.07.47_Grinding/raw\n",
            "/content/gdrive/MyDrive/Data/OK_Measurements/2024.02.14_22.13.45_Grinding/raw\n",
            "/content/gdrive/MyDrive/Data/OK_Measurements/2024.02.14_22.02.42_Grinding/raw\n",
            "/content/gdrive/MyDrive/Data/OK_Measurements/2024.02.14_22.04.13_Grinding/raw\n",
            "/content/gdrive/MyDrive/Data/OK_Measurements/2024.02.14_22.12.14_Grinding/raw\n",
            "/content/gdrive/MyDrive/Data/OK_Measurements/2024.02.14_22.11.13_Grinding/raw\n",
            "/content/gdrive/MyDrive/Data/OK_Measurements/2024.02.14_22.05.45_Grinding/raw\n",
            "/content/gdrive/MyDrive/Data/OK_Measurements/2024.02.14_22.10.42_Grinding/raw\n",
            "/content/gdrive/MyDrive/Data/OK_Measurements/2024.02.14_22.08.18_Grinding/raw\n",
            "/content/gdrive/MyDrive/Data/OK_Measurements/2024.02.14_22.00.10_Grinding/raw\n",
            "/content/gdrive/MyDrive/Data/OK_Measurements/2024.02.14_22.03.43_Grinding/raw\n",
            "/content/gdrive/MyDrive/Data/OK_Measurements/2024.02.14_22.14.46_Grinding/raw\n",
            "/content/gdrive/MyDrive/Data/NOK_Measurements/2024.02.15_02.36.27_Grinding/raw\n",
            "/content/gdrive/MyDrive/Data/NOK_Measurements/2024.02.15_02.39.37_Grinding/raw\n",
            "/content/gdrive/MyDrive/Data/NOK_Measurements/2024.02.15_02.34.35_Grinding/raw\n",
            "/content/gdrive/MyDrive/Data/NOK_Measurements/2024.02.15_02.30.21_Grinding/raw\n",
            "/content/gdrive/MyDrive/Data/NOK_Measurements/2024.02.15_02.33.13_Grinding/raw\n",
            "/content/gdrive/MyDrive/Data/NOK_Measurements/2024.02.15_02.38.16_Grinding/raw\n",
            "/content/gdrive/MyDrive/Data/NOK_Measurements/2024.02.15_02.38.43_Grinding/raw\n",
            "/content/gdrive/MyDrive/Data/NOK_Measurements/2024.02.15_02.32.44_Grinding/raw\n",
            "/content/gdrive/MyDrive/Data/NOK_Measurements/2024.02.15_02.35.02_Grinding/raw\n",
            "/content/gdrive/MyDrive/Data/NOK_Measurements/2024.02.15_02.31.49_Grinding/raw\n",
            "/content/gdrive/MyDrive/Data/NOK_Measurements/2024.02.15_02.29.09_Grinding/raw\n",
            "/content/gdrive/MyDrive/Data/NOK_Measurements/2024.02.15_02.30.47_Grinding/raw\n",
            "/content/gdrive/MyDrive/Data/NOK_Measurements/2024.02.15_02.40.04_Grinding/raw\n",
            "/content/gdrive/MyDrive/Data/NOK_Measurements/2024.02.15_02.40.31_Grinding/raw\n",
            "/content/gdrive/MyDrive/Data/NOK_Measurements/2024.02.15_02.31.16_Grinding/raw\n",
            "/content/gdrive/MyDrive/Data/NOK_Measurements/2024.02.15_02.28.41_Grinding/raw\n",
            "/content/gdrive/MyDrive/Data/NOK_Measurements/2024.02.15_02.27.22_Grinding/raw\n",
            "/content/gdrive/MyDrive/Data/NOK_Measurements/2024.02.15_02.37.22_Grinding/raw\n",
            "/content/gdrive/MyDrive/Data/NOK_Measurements/2024.02.15_02.32.16_Grinding/raw\n",
            "/content/gdrive/MyDrive/Data/NOK_Measurements/2024.02.15_02.33.41_Grinding/raw\n",
            "/content/gdrive/MyDrive/Data/NOK_Measurements/2024.02.15_02.27.48_Grinding/raw\n",
            "/content/gdrive/MyDrive/Data/NOK_Measurements/2024.02.15_02.35.32_Grinding/raw\n",
            "/content/gdrive/MyDrive/Data/NOK_Measurements/2024.02.15_02.28.14_Grinding/raw\n",
            "/content/gdrive/MyDrive/Data/NOK_Measurements/2024.02.15_02.35.59_Grinding/raw\n",
            "/content/gdrive/MyDrive/Data/NOK_Measurements/2024.02.15_02.29.55_Grinding/raw\n",
            "/content/gdrive/MyDrive/Data/NOK_Measurements/2024.02.15_02.36.54_Grinding/raw\n",
            "/content/gdrive/MyDrive/Data/NOK_Measurements/2024.02.15_02.34.08_Grinding/raw\n",
            "/content/gdrive/MyDrive/Data/NOK_Measurements/2024.02.15_02.39.10_Grinding/raw\n",
            "/content/gdrive/MyDrive/Data/NOK_Measurements/2024.02.15_02.37.50_Grinding/raw\n",
            "Combined 100KHz Data Sample (Mean):\n",
            "   Irms_Grinding_rate100000_clipping0_batch0  \\\n",
            "0                                   0.086915   \n",
            "1                                   0.086282   \n",
            "2                                   0.085834   \n",
            "3                                   0.086241   \n",
            "4                                   0.085582   \n",
            "\n",
            "   Grinding spindle current L1_rate100000_clipping0_batch0  \\\n",
            "0                                          -0.000081         \n",
            "1                                          -0.000081         \n",
            "2                                          -0.000078         \n",
            "3                                          -0.000087         \n",
            "4                                          -0.000101         \n",
            "\n",
            "   Grinding spindle current L2_rate100000_clipping0_batch0  \\\n",
            "0                                           0.000049         \n",
            "1                                           0.000068         \n",
            "2                                           0.000069         \n",
            "3                                           0.000072         \n",
            "4                                           0.000045         \n",
            "\n",
            "   Grinding spindle current L3_rate100000_clipping0_batch0  \\\n",
            "0                                           0.000281         \n",
            "1                                           0.000311         \n",
            "2                                           0.000310         \n",
            "3                                           0.000318         \n",
            "4                                           0.000292         \n",
            "\n",
            "            timestamp  label  \n",
            "0 2024-02-14 22:14:16      0  \n",
            "1 2024-02-14 22:11:43      0  \n",
            "2 2024-02-14 22:05:15      0  \n",
            "3 2024-02-14 22:13:15      0  \n",
            "4 2024-02-14 22:03:13      0  \n",
            "\n",
            "Combined 2000KHz Data Sample (Mean):\n",
            "   AEKi_rate2000000_clipping0_batch0           timestamp  label\n",
            "0                          -0.000659 2024-02-14 22:14:16      0\n",
            "1                          -0.000888 2024-02-14 22:11:43      0\n",
            "2                          -0.000840 2024-02-14 22:05:15      0\n",
            "3                          -0.001504 2024-02-14 22:13:15      0\n",
            "4                          -0.001090 2024-02-14 22:03:13      0\n"
          ]
        }
      ]
    },
    {
      "cell_type": "code",
      "source": [
        "from sklearn.preprocessing import StandardScaler\n",
        "\n",
        "# Separate features and labels for 100KHz data\n",
        "features_100KHz = all_100KHzdata.drop(columns=['timestamp', 'label'])  # Exclude timestamp and label\n",
        "timestamps_100KHz = all_100KHzdata['timestamp']\n",
        "labels_100KHz = all_100KHzdata['label']\n",
        "\n",
        "# Normalize features for 100KHz data\n",
        "scaler_100KHz = StandardScaler()\n",
        "normalized_features_100KHz = scaler_100KHz.fit_transform(features_100KHz)\n",
        "\n",
        "# Combine normalized features with timestamps and labels\n",
        "normalized_100KHzdata = pd.DataFrame(normalized_features_100KHz, columns=features_100KHz.columns)\n",
        "normalized_100KHzdata.insert(0, 'timestamp', timestamps_100KHz)  # Add timestamp column back\n",
        "normalized_100KHzdata['label'] = labels_100KHz.values  # Add label column back\n",
        "\n",
        "# Separate features and labels for 2000KHz data\n",
        "features_2000KHz = all_2000KHzdata.drop(columns=['timestamp', 'label'])  # Exclude timestamp and label\n",
        "timestamps_2000KHz = all_2000KHzdata['timestamp']\n",
        "labels_2000KHz = all_2000KHzdata['label']\n",
        "\n",
        "# Normalize features for 2000KHz data\n",
        "scaler_2000KHz = StandardScaler()\n",
        "normalized_features_2000KHz = scaler_2000KHz.fit_transform(features_2000KHz)\n",
        "\n",
        "# Combine normalized features with timestamps and labels\n",
        "normalized_2000KHzdata = pd.DataFrame(normalized_features_2000KHz, columns=features_2000KHz.columns)\n",
        "normalized_2000KHzdata.insert(0, 'timestamp', timestamps_2000KHz)  # Add timestamp column back\n",
        "normalized_2000KHzdata['label'] = labels_2000KHz.values  # Add label column back\n",
        "\n",
        "print(\"Normalized 100KHz Data Sample:\")\n",
        "print(normalized_100KHzdata.head())\n",
        "print(len(normalized_100KHzdata))\n",
        "print(\"\\nNormalized 2000KHz Data Sample:\")\n",
        "print(normalized_2000KHzdata.head())\n",
        "print(len(normalized_2000KHzdata))"
      ],
      "metadata": {
        "colab": {
          "base_uri": "https://localhost:8080/"
        },
        "id": "YaH0NqqQsrQI",
        "outputId": "4011e824-f526-4e1d-eb2a-0b2bd2fd78e1"
      },
      "execution_count": 13,
      "outputs": [
        {
          "output_type": "stream",
          "name": "stdout",
          "text": [
            "Normalized 100KHz Data Sample:\n",
            "            timestamp  Irms_Grinding_rate100000_clipping0_batch0  \\\n",
            "0 2024-02-14 22:14:16                                  -0.690665   \n",
            "1 2024-02-14 22:11:43                                  -0.880084   \n",
            "2 2024-02-14 22:05:15                                  -1.014171   \n",
            "3 2024-02-14 22:13:15                                  -0.892442   \n",
            "4 2024-02-14 22:03:13                                  -1.089597   \n",
            "\n",
            "   Grinding spindle current L1_rate100000_clipping0_batch0  \\\n",
            "0                                           0.072306         \n",
            "1                                           0.084977         \n",
            "2                                           0.286297         \n",
            "3                                          -0.288736         \n",
            "4                                          -1.187396         \n",
            "\n",
            "   Grinding spindle current L2_rate100000_clipping0_batch0  \\\n",
            "0                                          -1.032386         \n",
            "1                                           0.108840         \n",
            "2                                           0.143756         \n",
            "3                                           0.345105         \n",
            "4                                          -1.258057         \n",
            "\n",
            "   Grinding spindle current L3_rate100000_clipping0_batch0  label  \n",
            "0                                          -1.231725            0  \n",
            "1                                           0.610303            0  \n",
            "2                                           0.565636            0  \n",
            "3                                           1.022474            0  \n",
            "4                                          -0.554190            0  \n",
            "58\n",
            "\n",
            "Normalized 2000KHz Data Sample:\n",
            "            timestamp  AEKi_rate2000000_clipping0_batch0  label\n",
            "0 2024-02-14 22:14:16                           0.054084      0\n",
            "1 2024-02-14 22:11:43                          -0.385203      0\n",
            "2 2024-02-14 22:05:15                          -0.294156      0\n",
            "3 2024-02-14 22:13:15                          -1.565786      0\n",
            "4 2024-02-14 22:03:13                          -0.772978      0\n",
            "58\n"
          ]
        }
      ]
    },
    {
      "cell_type": "code",
      "source": [
        "import pandas as pd\n",
        "\n",
        "# Concatenate the 100KHz and 2000KHz data\n",
        "normalized_100KHzdata = normalized_100KHzdata.set_index('timestamp')\n",
        "normalized_2000KHzdata = normalized_2000KHzdata.set_index('timestamp')\n",
        "\n",
        "# Concatenate along columns\n",
        "combined_data = pd.concat([normalized_100KHzdata, normalized_2000KHzdata], axis=1, join='inner').reset_index()\n",
        "\n",
        "# Remove duplicate 'label' columns and keep the first one\n",
        "combined_data = combined_data.loc[:, ~combined_data.columns.duplicated()]\n",
        "\n",
        "# Ensure the label column is at the end\n",
        "label = combined_data.pop('label')\n",
        "combined_data['label'] = label\n",
        "\n",
        "print(\"Combined Data Sample:\")\n",
        "print(combined_data.head())\n",
        "print(len(combined_data))"
      ],
      "metadata": {
        "colab": {
          "base_uri": "https://localhost:8080/"
        },
        "id": "X9uPDJHLLm5c",
        "outputId": "3ddc50e0-7cef-42fe-9a7a-ac0dd4b03e43"
      },
      "execution_count": 14,
      "outputs": [
        {
          "output_type": "stream",
          "name": "stdout",
          "text": [
            "Combined Data Sample:\n",
            "            timestamp  Irms_Grinding_rate100000_clipping0_batch0  \\\n",
            "0 2024-02-14 22:14:16                                  -0.690665   \n",
            "1 2024-02-14 22:11:43                                  -0.880084   \n",
            "2 2024-02-14 22:05:15                                  -1.014171   \n",
            "3 2024-02-14 22:13:15                                  -0.892442   \n",
            "4 2024-02-14 22:03:13                                  -1.089597   \n",
            "\n",
            "   Grinding spindle current L1_rate100000_clipping0_batch0  \\\n",
            "0                                           0.072306         \n",
            "1                                           0.084977         \n",
            "2                                           0.286297         \n",
            "3                                          -0.288736         \n",
            "4                                          -1.187396         \n",
            "\n",
            "   Grinding spindle current L2_rate100000_clipping0_batch0  \\\n",
            "0                                          -1.032386         \n",
            "1                                           0.108840         \n",
            "2                                           0.143756         \n",
            "3                                           0.345105         \n",
            "4                                          -1.258057         \n",
            "\n",
            "   Grinding spindle current L3_rate100000_clipping0_batch0  \\\n",
            "0                                          -1.231725         \n",
            "1                                           0.610303         \n",
            "2                                           0.565636         \n",
            "3                                           1.022474         \n",
            "4                                          -0.554190         \n",
            "\n",
            "   AEKi_rate2000000_clipping0_batch0  label  \n",
            "0                           0.054084      0  \n",
            "1                          -0.385203      0  \n",
            "2                          -0.294156      0  \n",
            "3                          -1.565786      0  \n",
            "4                          -0.772978      0  \n",
            "58\n"
          ]
        }
      ]
    },
    {
      "cell_type": "code",
      "source": [
        "from sklearn.preprocessing import StandardScaler\n",
        "from sklearn.model_selection import train_test_split"
      ],
      "metadata": {
        "id": "1pZaYfSMNWtH"
      },
      "execution_count": 18,
      "outputs": []
    },
    {
      "cell_type": "code",
      "source": [
        "\n",
        "X=combined_data.iloc[:,1:-1]\n",
        "y=combined_data['label']\n",
        "X_train, X_test, y_train, y_test = train_test_split(X, y, test_size=0.5, random_state=65)\n"
      ],
      "metadata": {
        "id": "BL9zsthNL3TR"
      },
      "execution_count": 42,
      "outputs": []
    },
    {
      "cell_type": "code",
      "source": [
        "from sklearn.metrics import accuracy_score, classification_report\n",
        "svm = SVC(kernel='linear', C=1.0, random_state=42)\n",
        "svm.fit(X_train, y_train)\n",
        "\n",
        "y_pred = svm.predict(X_test)\n",
        "accuracy = accuracy_score(y_test, y_pred)\n",
        "report = classification_report(y_test, y_pred)\n",
        "\n",
        "print(\"Accuracy:\", accuracy)\n",
        "print(\"\\nClassification Report:\\n\", report)"
      ],
      "metadata": {
        "colab": {
          "base_uri": "https://localhost:8080/"
        },
        "id": "N_5mRXlrM_63",
        "outputId": "ccb7597f-64a4-4b85-9708-c79799d59e02"
      },
      "execution_count": 43,
      "outputs": [
        {
          "output_type": "stream",
          "name": "stdout",
          "text": [
            "Accuracy: 1.0\n",
            "\n",
            "Classification Report:\n",
            "               precision    recall  f1-score   support\n",
            "\n",
            "           0       1.00      1.00      1.00        14\n",
            "           1       1.00      1.00      1.00        15\n",
            "\n",
            "    accuracy                           1.00        29\n",
            "   macro avg       1.00      1.00      1.00        29\n",
            "weighted avg       1.00      1.00      1.00        29\n",
            "\n"
          ]
        }
      ]
    },
    {
      "cell_type": "code",
      "source": [
        "import numpy as np\n",
        "from sklearn.svm import SVC\n",
        "from sklearn.model_selection import cross_validate\n",
        "from prettytable import PrettyTable\n",
        "# Cross validation for hyper-parameter tuning\n",
        "hyperparameter_score_list = []\n",
        "for kernel in ['linear', 'poly', 'rbf', 'sigmoid']:\n",
        "    for c in np.arange(0.5,3,0.5):\n",
        "        svm = SVC(kernel=kernel, C=c)\n",
        "        scores = cross_validate(svm, X_train, y_train, cv=10, scoring='accuracy')\n",
        "        mean_score = np.mean(scores['test_score'])\n",
        "        hyperparameter_score_list.append([kernel, c, mean_score])\n",
        "# Choose the hyper-parameters (with highest average accuracy)\n",
        "myTable = PrettyTable([\"Kernel\", \"C\", \"Avg accuracy\"])\n",
        "for row in hyperparameter_score_list:\n",
        "    myTable.add_row([row[0], row[1], round(row[2],3)])\n",
        "print(myTable)"
      ],
      "metadata": {
        "colab": {
          "base_uri": "https://localhost:8080/"
        },
        "id": "gKMnqdPNNMce",
        "outputId": "12a3d6a7-37cf-4217-d7d0-2383e36efc1c"
      },
      "execution_count": 44,
      "outputs": [
        {
          "output_type": "stream",
          "name": "stdout",
          "text": [
            "+---------+-----+--------------+\n",
            "|  Kernel |  C  | Avg accuracy |\n",
            "+---------+-----+--------------+\n",
            "|  linear | 0.5 |     1.0      |\n",
            "|  linear | 1.0 |     1.0      |\n",
            "|  linear | 1.5 |     1.0      |\n",
            "|  linear | 2.0 |     1.0      |\n",
            "|  linear | 2.5 |     1.0      |\n",
            "|   poly  | 0.5 |    0.967     |\n",
            "|   poly  | 1.0 |    0.967     |\n",
            "|   poly  | 1.5 |    0.967     |\n",
            "|   poly  | 2.0 |    0.967     |\n",
            "|   poly  | 2.5 |    0.967     |\n",
            "|   rbf   | 0.5 |     1.0      |\n",
            "|   rbf   | 1.0 |     1.0      |\n",
            "|   rbf   | 1.5 |     1.0      |\n",
            "|   rbf   | 2.0 |     1.0      |\n",
            "|   rbf   | 2.5 |     1.0      |\n",
            "| sigmoid | 0.5 |     1.0      |\n",
            "| sigmoid | 1.0 |     1.0      |\n",
            "| sigmoid | 1.5 |     1.0      |\n",
            "| sigmoid | 2.0 |     1.0      |\n",
            "| sigmoid | 2.5 |     1.0      |\n",
            "+---------+-----+--------------+\n"
          ]
        }
      ]
    },
    {
      "cell_type": "code",
      "source": [
        "svm = SVC(kernel='poly', C=1.0, random_state=42)\n",
        "svm.fit(X_train, y_train)\n",
        "\n",
        "y_pred = svm.predict(X_test)\n",
        "accuracy = accuracy_score(y_test, y_pred)\n",
        "report = classification_report(y_test, y_pred)\n",
        "\n",
        "print(\"Accuracy:\", accuracy)\n",
        "print(\"\\nClassification Report:\\n\", report)"
      ],
      "metadata": {
        "colab": {
          "base_uri": "https://localhost:8080/"
        },
        "id": "vh3y0oknVmbu",
        "outputId": "5e262096-94a5-4463-cf3b-2312e9787685"
      },
      "execution_count": 45,
      "outputs": [
        {
          "output_type": "stream",
          "name": "stdout",
          "text": [
            "Accuracy: 0.9310344827586207\n",
            "\n",
            "Classification Report:\n",
            "               precision    recall  f1-score   support\n",
            "\n",
            "           0       1.00      0.86      0.92        14\n",
            "           1       0.88      1.00      0.94        15\n",
            "\n",
            "    accuracy                           0.93        29\n",
            "   macro avg       0.94      0.93      0.93        29\n",
            "weighted avg       0.94      0.93      0.93        29\n",
            "\n"
          ]
        }
      ]
    }
  ]
}