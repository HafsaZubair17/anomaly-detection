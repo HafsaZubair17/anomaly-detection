{
  "cells": [
    {
      "cell_type": "code",
      "execution_count": null,
      "metadata": {
        "id": "X-0cc2ugvV5I"
      },
      "outputs": [],
      "source": [
        "import numpy as np\n",
        "import matplotlib.pyplot as plt\n",
        "import pandas as pd"
      ]
    },
    {
      "cell_type": "code",
      "execution_count": null,
      "metadata": {
        "colab": {
          "base_uri": "https://localhost:8080/"
        },
        "id": "zlaw7jh1ve9y",
        "outputId": "00e1b81e-6966-48c9-d16e-abed586cf29b"
      },
      "outputs": [
        {
          "output_type": "stream",
          "name": "stdout",
          "text": [
            "Mounted at /content/gdrive\n"
          ]
        }
      ],
      "source": [
        "from google.colab import drive\n",
        "drive.mount('/content/gdrive')"
      ]
    },
    {
      "cell_type": "code",
      "execution_count": null,
      "metadata": {
        "colab": {
          "base_uri": "https://localhost:8080/"
        },
        "id": "G6UnoF9txbO8",
        "outputId": "81f3d211-b254-44ae-8c1e-aa918cd68eec"
      },
      "outputs": [
        {
          "output_type": "stream",
          "name": "stdout",
          "text": [
            "Combined 100KHz Data Sample (Mean):\n",
            "   Irms_Grinding_rate100000_clipping0_batch0  \\\n",
            "0                                   0.085166   \n",
            "1                                   0.085681   \n",
            "2                                   0.085834   \n",
            "3                                   0.085607   \n",
            "4                                   0.085260   \n",
            "\n",
            "   Grinding spindle current L1_rate100000_clipping0_batch0  \\\n",
            "0                                          -0.000076         \n",
            "1                                          -0.000062         \n",
            "2                                          -0.000078         \n",
            "3                                          -0.000086         \n",
            "4                                          -0.000060         \n",
            "\n",
            "   Grinding spindle current L2_rate100000_clipping0_batch0  \\\n",
            "0                                           0.000064         \n",
            "1                                           0.000100         \n",
            "2                                           0.000069         \n",
            "3                                           0.000083         \n",
            "4                                           0.000088         \n",
            "\n",
            "   Grinding spindle current L3_rate100000_clipping0_batch0  \\\n",
            "0                                           0.000294         \n",
            "1                                           0.000295         \n",
            "2                                           0.000310         \n",
            "3                                           0.000312         \n",
            "4                                           0.000292         \n",
            "\n",
            "            timestamp  label  \n",
            "0 2024-02-14 22:00:10      0  \n",
            "1 2024-02-14 22:04:13      0  \n",
            "2 2024-02-14 22:05:15      0  \n",
            "3 2024-02-14 22:03:43      0  \n",
            "4 2024-02-14 22:01:11      0  \n",
            "\n",
            "Combined 2000KHz Data Sample (Mean):\n",
            "   AEKi_rate2000000_clipping0_batch0           timestamp  label\n",
            "0                          -0.001509 2024-02-14 22:00:10      0\n",
            "1                          -0.000890 2024-02-14 22:04:13      0\n",
            "2                          -0.000840 2024-02-14 22:05:15      0\n",
            "3                          -0.001179 2024-02-14 22:03:43      0\n",
            "4                          -0.001196 2024-02-14 22:01:11      0\n"
          ]
        }
      ],
      "source": [
        "import os\n",
        "\n",
        "def load_and_label_data(base_path, label, max_files=None):\n",
        "    combined_100KHzdata = []\n",
        "    combined_2000KHzdata = []\n",
        "\n",
        "    # Initialize a counter\n",
        "    file_counter = 0\n",
        "\n",
        "    # Iterate over each timestamped folder\n",
        "    for timestamp_folder in os.listdir(base_path):\n",
        "        if max_files and file_counter >= max_files:\n",
        "            break\n",
        "\n",
        "        timestamp_folder_path = os.path.join(base_path, timestamp_folder, \"raw\")\n",
        "\n",
        "        # Extract the full timestamp from the folder name and convert to datetime format\n",
        "        timestamp = timestamp_folder.split('_')[0] + '_' + timestamp_folder.split('_')[1]\n",
        "        timestamp = pd.to_datetime(timestamp, format='%Y.%m.%d_%H.%M.%S')\n",
        "\n",
        "        # Load the 2000KHz data\n",
        "        df_2000KHz = pd.read_parquet(os.path.join(timestamp_folder_path, \"Sampling2000KHz_AEKi-0.parquet\"))\n",
        "        mean_2000KHz = df_2000KHz.mean().to_frame().T\n",
        "        mean_2000KHz['timestamp'] = timestamp\n",
        "        mean_2000KHz['label'] = label\n",
        "\n",
        "        # Load the 100KHz data\n",
        "        df_100KHz = pd.read_parquet(os.path.join(timestamp_folder_path, \"Sampling100KHz_Irms_Grinding-Grinding spindle current L1-Grinding spindle current L2-Grinding spindle current L3-0.parquet\"))\n",
        "        mean_100KHz = df_100KHz.mean().to_frame().T\n",
        "        mean_100KHz['timestamp'] = timestamp\n",
        "        mean_100KHz['label'] = label\n",
        "\n",
        "        # Append the mean data to the combined lists\n",
        "        combined_100KHzdata.append(mean_100KHz)\n",
        "        combined_2000KHzdata.append(mean_2000KHz)\n",
        "\n",
        "        # Increment the counter\n",
        "        file_counter += 1\n",
        "\n",
        "    # Combine all the mean data into a single dataframe\n",
        "    final_combined_100KHzdata = pd.concat(combined_100KHzdata, ignore_index=True)\n",
        "    final_combined_2000KHzdata = pd.concat(combined_2000KHzdata, ignore_index=True)\n",
        "\n",
        "    return final_combined_100KHzdata, final_combined_2000KHzdata\n",
        "\n",
        "# Define the paths to the OK and NOK data directories\n",
        "ok_data_path = '/content/gdrive/MyDrive/Data/OK_Measurements'\n",
        "nok_data_path = '/content/gdrive/MyDrive/Data/NOK_Measurements'\n",
        "\n",
        "# Load OK and NOK data\n",
        "ok_100KHzdata, ok_2000KHzdata = load_and_label_data(ok_data_path, label=0)\n",
        "nok_100KHzdata, nok_2000KHzdata = load_and_label_data(nok_data_path, label=1)\n",
        "\n",
        "# Combine OK and NOK data\n",
        "all_100KHzdata = pd.concat([ok_100KHzdata, nok_100KHzdata], ignore_index=True)\n",
        "all_2000KHzdata = pd.concat([ok_2000KHzdata, nok_2000KHzdata], ignore_index=True)\n",
        "\n",
        "# Print the first few rows of the combined data for inspection\n",
        "print(\"Combined 100KHz Data Sample (Mean):\")\n",
        "print(all_100KHzdata.head())\n",
        "print(\"\\nCombined 2000KHz Data Sample (Mean):\")\n",
        "print(all_2000KHzdata.head())"
      ]
    },
    {
      "cell_type": "code",
      "source": [
        "from sklearn.preprocessing import StandardScaler\n",
        "\n",
        "# Separate features and labels for 100KHz data\n",
        "features_100KHz = all_100KHzdata.drop(columns=['timestamp', 'label'])  # Exclude timestamp and label\n",
        "timestamps_100KHz = all_100KHzdata['timestamp']\n",
        "labels_100KHz = all_100KHzdata['label']\n",
        "\n",
        "# Normalize features for 100KHz data\n",
        "scaler_100KHz = StandardScaler()\n",
        "normalized_features_100KHz = scaler_100KHz.fit_transform(features_100KHz)\n",
        "\n",
        "# Combine normalized features with timestamps and labels\n",
        "normalized_100KHzdata = pd.DataFrame(normalized_features_100KHz, columns=features_100KHz.columns)\n",
        "normalized_100KHzdata.insert(0, 'timestamp', timestamps_100KHz)  # Add timestamp column back\n",
        "normalized_100KHzdata['label'] = labels_100KHz.values  # Add label column back\n",
        "\n",
        "# Separate features and labels for 2000KHz data\n",
        "features_2000KHz = all_2000KHzdata.drop(columns=['timestamp', 'label'])  # Exclude timestamp and label\n",
        "timestamps_2000KHz = all_2000KHzdata['timestamp']\n",
        "labels_2000KHz = all_2000KHzdata['label']\n",
        "\n",
        "# Normalize features for 2000KHz data\n",
        "scaler_2000KHz = StandardScaler()\n",
        "normalized_features_2000KHz = scaler_2000KHz.fit_transform(features_2000KHz)\n",
        "\n",
        "# Combine normalized features with timestamps and labels\n",
        "normalized_2000KHzdata = pd.DataFrame(normalized_features_2000KHz, columns=features_2000KHz.columns)\n",
        "normalized_2000KHzdata.insert(0, 'timestamp', timestamps_2000KHz)  # Add timestamp column back\n",
        "normalized_2000KHzdata['label'] = labels_2000KHz.values  # Add label column back\n",
        "\n",
        "print(\"Normalized 100KHz Data Sample:\")\n",
        "print(normalized_100KHzdata.head())\n",
        "print(len(normalized_100KHzdata))\n",
        "print(\"\\nNormalized 2000KHz Data Sample:\")\n",
        "print(normalized_2000KHzdata.head())\n",
        "print(len(normalized_2000KHzdata))"
      ],
      "metadata": {
        "colab": {
          "base_uri": "https://localhost:8080/"
        },
        "id": "AJyDaoAB2lVi",
        "outputId": "37f52b1c-1956-44d1-b897-62da1b5913a9"
      },
      "execution_count": null,
      "outputs": [
        {
          "output_type": "stream",
          "name": "stdout",
          "text": [
            "Normalized 100KHz Data Sample:\n",
            "            timestamp  Irms_Grinding_rate100000_clipping0_batch0  \\\n",
            "0 2024-02-14 22:00:10                                  -1.213932   \n",
            "1 2024-02-14 22:04:13                                  -1.059871   \n",
            "2 2024-02-14 22:05:15                                  -1.014171   \n",
            "3 2024-02-14 22:03:43                                  -1.082180   \n",
            "4 2024-02-14 22:01:11                                  -1.185769   \n",
            "\n",
            "   Grinding spindle current L1_rate100000_clipping0_batch0  \\\n",
            "0                                           0.410776         \n",
            "1                                           1.275351         \n",
            "2                                           0.286297         \n",
            "3                                          -0.208334         \n",
            "4                                           1.423043         \n",
            "\n",
            "   Grinding spindle current L2_rate100000_clipping0_batch0  \\\n",
            "0                                          -0.126537         \n",
            "1                                           1.918509         \n",
            "2                                           0.143756         \n",
            "3                                           0.938269         \n",
            "4                                           1.256994         \n",
            "\n",
            "   Grinding spindle current L3_rate100000_clipping0_batch0  label  \n",
            "0                                          -0.436171            0  \n",
            "1                                          -0.403926            0  \n",
            "2                                           0.565636            0  \n",
            "3                                           0.652915            0  \n",
            "4                                          -0.601523            0  \n",
            "58\n",
            "\n",
            "Normalized 2000KHz Data Sample:\n",
            "            timestamp  AEKi_rate2000000_clipping0_batch0  label\n",
            "0 2024-02-14 22:00:10                          -1.575957      0\n",
            "1 2024-02-14 22:04:13                          -0.388929      0\n",
            "2 2024-02-14 22:05:15                          -0.294156      0\n",
            "3 2024-02-14 22:03:43                          -0.943421      0\n",
            "4 2024-02-14 22:01:11                          -0.974924      0\n",
            "58\n"
          ]
        }
      ]
    },
    {
      "cell_type": "code",
      "source": [
        "import pandas as pd\n",
        "# Concatenate the 100KHz and 2000KHz data\n",
        "normalized_100KHzdata = normalized_100KHzdata.set_index('timestamp')\n",
        "normalized_2000KHzdata = normalized_2000KHzdata.set_index('timestamp')\n",
        "\n",
        "# Concatenate along columns\n",
        "combined_data = pd.concat([normalized_100KHzdata, normalized_2000KHzdata], axis=1, join='inner').reset_index()\n",
        "\n",
        "# Remove duplicate 'label' columns and keep the first one\n",
        "combined_data = combined_data.loc[:, ~combined_data.columns.duplicated()]\n",
        "\n",
        "# Ensure the label column is at the end\n",
        "label = combined_data.pop('label')\n",
        "combined_data['label'] = label\n",
        "\n",
        "print(\"Combined Data Sample:\")\n",
        "print(combined_data.head())\n",
        "print(len(combined_data))"
      ],
      "metadata": {
        "colab": {
          "base_uri": "https://localhost:8080/"
        },
        "id": "VDVemc_-2uDc",
        "outputId": "8295952f-79bd-4636-8f85-2a49b719b193"
      },
      "execution_count": null,
      "outputs": [
        {
          "output_type": "stream",
          "name": "stdout",
          "text": [
            "Combined Data Sample:\n",
            "            timestamp  Irms_Grinding_rate100000_clipping0_batch0  \\\n",
            "0 2024-02-14 22:00:10                                  -1.213932   \n",
            "1 2024-02-14 22:04:13                                  -1.059871   \n",
            "2 2024-02-14 22:05:15                                  -1.014171   \n",
            "3 2024-02-14 22:03:43                                  -1.082180   \n",
            "4 2024-02-14 22:01:11                                  -1.185769   \n",
            "\n",
            "   Grinding spindle current L1_rate100000_clipping0_batch0  \\\n",
            "0                                           0.410776         \n",
            "1                                           1.275351         \n",
            "2                                           0.286297         \n",
            "3                                          -0.208334         \n",
            "4                                           1.423043         \n",
            "\n",
            "   Grinding spindle current L2_rate100000_clipping0_batch0  \\\n",
            "0                                          -0.126537         \n",
            "1                                           1.918509         \n",
            "2                                           0.143756         \n",
            "3                                           0.938269         \n",
            "4                                           1.256994         \n",
            "\n",
            "   Grinding spindle current L3_rate100000_clipping0_batch0  \\\n",
            "0                                          -0.436171         \n",
            "1                                          -0.403926         \n",
            "2                                           0.565636         \n",
            "3                                           0.652915         \n",
            "4                                          -0.601523         \n",
            "\n",
            "   AEKi_rate2000000_clipping0_batch0  label  \n",
            "0                          -1.575957      0  \n",
            "1                          -0.388929      0  \n",
            "2                          -0.294156      0  \n",
            "3                          -0.943421      0  \n",
            "4                          -0.974924      0  \n",
            "58\n"
          ]
        }
      ]
    },
    {
      "cell_type": "code",
      "source": [
        "\n",
        "import pandas as pd\n",
        "from sklearn.model_selection import train_test_split\n",
        "from sklearn.neighbors import KNeighborsClassifier\n",
        "from sklearn.metrics import accuracy_score, classification_report, confusion_matrix\n",
        "\n",
        "# Assuming 'combined_data' is your final combined DataFrame with the 'label' column\n",
        "\n",
        "# Separate features and labels\n",
        "features = combined_data.drop(columns=['label'])\n",
        "labels = combined_data['label']\n",
        "\n",
        "# Check and convert feature columns to numeric\n",
        "features = features.apply(pd.to_numeric, errors='coerce')\n",
        "\n",
        "# Check and convert label column to numeric\n",
        "labels = pd.to_numeric(labels, errors='coerce')\n",
        "\n",
        "# Drop rows with NaN values which might have resulted from conversion errors\n",
        "features = features.dropna()\n",
        "labels = labels[features.index]\n",
        "\n",
        "# Split the data into training and testing sets (80% train, 20% test)\n",
        "X_train, X_test, y_train, y_test = train_test_split(features, labels, test_size=0.3, random_state=42)\n",
        "\n",
        "# Initialize the KNN model (you can specify the number of neighbors, n_neighbors, here)\n",
        "knn = KNeighborsClassifier(n_neighbors=10)\n",
        "\n",
        "# Train the KNN model\n",
        "knn.fit(X_train, y_train)\n",
        "\n",
        "# Predict on the test set\n",
        "y_pred = knn.predict(X_test)\n",
        "\n",
        "# Evaluate the model\n",
        "accuracy = accuracy_score(y_test, y_pred)\n",
        "conf_matrix = confusion_matrix(y_test, y_pred)\n",
        "class_report = classification_report(y_test, y_pred)\n",
        "\n",
        "print(\"KNN Model Accuracy:\", accuracy)\n",
        "print(\"Confusion Matrix:\\n\", conf_matrix)\n",
        "print(\"Classification Report:\\n\", class_report)\n"
      ],
      "metadata": {
        "colab": {
          "base_uri": "https://localhost:8080/"
        },
        "id": "1liPHCs0ELox",
        "outputId": "47626741-babf-488e-c313-528c61a8c6e2"
      },
      "execution_count": null,
      "outputs": [
        {
          "output_type": "stream",
          "name": "stdout",
          "text": [
            "KNN Model Accuracy: 1.0\n",
            "Confusion Matrix:\n",
            " [[10  0]\n",
            " [ 0  8]]\n",
            "Classification Report:\n",
            "               precision    recall  f1-score   support\n",
            "\n",
            "           0       1.00      1.00      1.00        10\n",
            "           1       1.00      1.00      1.00         8\n",
            "\n",
            "    accuracy                           1.00        18\n",
            "   macro avg       1.00      1.00      1.00        18\n",
            "weighted avg       1.00      1.00      1.00        18\n",
            "\n"
          ]
        }
      ]
    }
  ],
  "metadata": {
    "colab": {
      "provenance": []
    },
    "kernelspec": {
      "display_name": "Python 3",
      "name": "python3"
    },
    "language_info": {
      "name": "python"
    }
  },
  "nbformat": 4,
  "nbformat_minor": 0
}