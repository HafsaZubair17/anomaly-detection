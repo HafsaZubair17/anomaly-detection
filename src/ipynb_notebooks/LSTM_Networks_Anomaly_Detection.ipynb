{
  "cells": [
    {
      "cell_type": "markdown",
      "metadata": {
        "id": "view-in-github",
        "colab_type": "text"
      },
      "source": [
        "<a href=\"https://colab.research.google.com/github/RitikaHiremath/DataScience/blob/main/src/ipynb_notebooks/LSTM_Networks_Anomaly_Detection.ipynb\" target=\"_parent\"><img src=\"https://colab.research.google.com/assets/colab-badge.svg\" alt=\"Open In Colab\"/></a>"
      ]
    },
    {
      "cell_type": "code",
      "source": [
        "from google.colab import drive\n",
        "drive.mount('/content/gdrive')"
      ],
      "metadata": {
        "id": "-0FDSDx1MZj9",
        "colab": {
          "base_uri": "https://localhost:8080/"
        },
        "outputId": "baa1674a-990c-42e3-91ae-db99571701d6"
      },
      "id": "-0FDSDx1MZj9",
      "execution_count": 1,
      "outputs": [
        {
          "output_type": "stream",
          "name": "stdout",
          "text": [
            "Mounted at /content/gdrive\n"
          ]
        }
      ]
    },
    {
      "cell_type": "code",
      "source": [
        "import pandas as pd\n",
        "import os\n",
        "\n",
        "def load_and_label_data(base_path, label, max_files=None):\n",
        "    combined_100KHzdata = []\n",
        "    combined_2000KHzdata = []\n",
        "\n",
        "    # Initialize a counter\n",
        "    file_counter = 0\n",
        "\n",
        "    # Iterate over each timestamped folder\n",
        "    for timestamp_folder in os.listdir(base_path):\n",
        "        if max_files and file_counter >= max_files:\n",
        "            break\n",
        "\n",
        "        timestamp_folder_path = os.path.join(base_path, timestamp_folder, \"raw\")\n",
        "\n",
        "        # Extract the full timestamp from the folder name and convert to datetime format\n",
        "        timestamp = timestamp_folder.split('_')[0] + '_' + timestamp_folder.split('_')[1]\n",
        "        timestamp = pd.to_datetime(timestamp, format='%Y.%m.%d_%H.%M.%S')\n",
        "\n",
        "        # Load the 2000KHz data\n",
        "        df_2000KHz = pd.read_parquet(os.path.join(timestamp_folder_path, \"Sampling2000KHz_AEKi-0.parquet\"))\n",
        "        mean_2000KHz = df_2000KHz.mean().to_frame().T\n",
        "        mean_2000KHz['timestamp'] = timestamp\n",
        "        mean_2000KHz['label'] = label\n",
        "\n",
        "        # Load the 100KHz data\n",
        "        df_100KHz = pd.read_parquet(os.path.join(timestamp_folder_path, \"Sampling100KHz_Irms_Grinding-Grinding spindle current L1-Grinding spindle current L2-Grinding spindle current L3-0.parquet\"))\n",
        "        mean_100KHz = df_100KHz.mean().to_frame().T\n",
        "        mean_100KHz['timestamp'] = timestamp\n",
        "        mean_100KHz['label'] = label\n",
        "\n",
        "        # Append the mean data to the combined lists\n",
        "        combined_100KHzdata.append(mean_100KHz)\n",
        "        combined_2000KHzdata.append(mean_2000KHz)\n",
        "\n",
        "        # Increment the counter\n",
        "        file_counter += 1\n",
        "\n",
        "    # Combine all the mean data into a single dataframe\n",
        "    final_combined_100KHzdata = pd.concat(combined_100KHzdata, ignore_index=True)\n",
        "    final_combined_2000KHzdata = pd.concat(combined_2000KHzdata, ignore_index=True)\n",
        "\n",
        "    return final_combined_100KHzdata, final_combined_2000KHzdata\n",
        "\n",
        "# Define the paths to the OK and NOK data directories\n",
        "ok_data_path = '/content/gdrive/MyDrive/Data/OK_Measurements'\n",
        "nok_data_path = '/content/gdrive/MyDrive/Data/NOK_Measurements'\n",
        "\n",
        "# Load OK and NOK data\n",
        "ok_100KHzdata, ok_2000KHzdata = load_and_label_data(ok_data_path, label=0)\n",
        "nok_100KHzdata, nok_2000KHzdata = load_and_label_data(nok_data_path, label=1)\n",
        "\n",
        "# Combine OK and NOK data\n",
        "all_100KHzdata = pd.concat([ok_100KHzdata, nok_100KHzdata], ignore_index=True)\n",
        "all_2000KHzdata = pd.concat([ok_2000KHzdata, nok_2000KHzdata], ignore_index=True)\n",
        "\n",
        "# Print the first few rows of the combined data for inspection\n",
        "print(\"Combined 100KHz Data Sample (Mean):\")\n",
        "print(all_100KHzdata.head())\n",
        "print(\"\\nCombined 2000KHz Data Sample (Mean):\")\n",
        "print(all_2000KHzdata.head())\n"
      ],
      "metadata": {
        "colab": {
          "base_uri": "https://localhost:8080/"
        },
        "id": "JGD5GDG90fqr",
        "outputId": "56913a0b-92f8-44e4-b23f-017b68143596"
      },
      "id": "JGD5GDG90fqr",
      "execution_count": 2,
      "outputs": [
        {
          "output_type": "stream",
          "name": "stdout",
          "text": [
            "Combined 100KHz Data Sample (Mean):\n",
            "   Irms_Grinding_rate100000_clipping0_batch0  \\\n",
            "0                                   0.085166   \n",
            "1                                   0.085681   \n",
            "2                                   0.085834   \n",
            "3                                   0.085607   \n",
            "4                                   0.085260   \n",
            "\n",
            "   Grinding spindle current L1_rate100000_clipping0_batch0  \\\n",
            "0                                          -0.000076         \n",
            "1                                          -0.000062         \n",
            "2                                          -0.000078         \n",
            "3                                          -0.000086         \n",
            "4                                          -0.000060         \n",
            "\n",
            "   Grinding spindle current L2_rate100000_clipping0_batch0  \\\n",
            "0                                           0.000064         \n",
            "1                                           0.000100         \n",
            "2                                           0.000069         \n",
            "3                                           0.000083         \n",
            "4                                           0.000088         \n",
            "\n",
            "   Grinding spindle current L3_rate100000_clipping0_batch0  \\\n",
            "0                                           0.000294         \n",
            "1                                           0.000295         \n",
            "2                                           0.000310         \n",
            "3                                           0.000312         \n",
            "4                                           0.000292         \n",
            "\n",
            "            timestamp  label  \n",
            "0 2024-02-14 22:00:10      0  \n",
            "1 2024-02-14 22:04:13      0  \n",
            "2 2024-02-14 22:05:15      0  \n",
            "3 2024-02-14 22:03:43      0  \n",
            "4 2024-02-14 22:01:11      0  \n",
            "\n",
            "Combined 2000KHz Data Sample (Mean):\n",
            "   AEKi_rate2000000_clipping0_batch0           timestamp  label\n",
            "0                          -0.001509 2024-02-14 22:00:10      0\n",
            "1                          -0.000890 2024-02-14 22:04:13      0\n",
            "2                          -0.000840 2024-02-14 22:05:15      0\n",
            "3                          -0.001179 2024-02-14 22:03:43      0\n",
            "4                          -0.001196 2024-02-14 22:01:11      0\n"
          ]
        }
      ]
    },
    {
      "cell_type": "code",
      "source": [
        "from sklearn.preprocessing import StandardScaler\n",
        "\n",
        "# Separate features and labels for 100KHz data\n",
        "features_100KHz = all_100KHzdata.drop(columns=['timestamp', 'label'])  # Exclude timestamp and label\n",
        "timestamps_100KHz = all_100KHzdata['timestamp']\n",
        "labels_100KHz = all_100KHzdata['label']\n",
        "\n",
        "# Normalize features for 100KHz data\n",
        "scaler_100KHz = StandardScaler()\n",
        "normalized_features_100KHz = scaler_100KHz.fit_transform(features_100KHz)\n",
        "\n",
        "# Combine normalized features with timestamps and labels\n",
        "normalized_100KHzdata = pd.DataFrame(normalized_features_100KHz, columns=features_100KHz.columns)\n",
        "normalized_100KHzdata.insert(0, 'timestamp', timestamps_100KHz)  # Add timestamp column back\n",
        "normalized_100KHzdata['label'] = labels_100KHz.values  # Add label column back\n",
        "\n",
        "# Separate features and labels for 2000KHz data\n",
        "features_2000KHz = all_2000KHzdata.drop(columns=['timestamp', 'label'])  # Exclude timestamp and label\n",
        "timestamps_2000KHz = all_2000KHzdata['timestamp']\n",
        "labels_2000KHz = all_2000KHzdata['label']\n",
        "\n",
        "# Normalize features for 2000KHz data\n",
        "scaler_2000KHz = StandardScaler()\n",
        "normalized_features_2000KHz = scaler_2000KHz.fit_transform(features_2000KHz)\n",
        "\n",
        "# Combine normalized features with timestamps and labels\n",
        "normalized_2000KHzdata = pd.DataFrame(normalized_features_2000KHz, columns=features_2000KHz.columns)\n",
        "normalized_2000KHzdata.insert(0, 'timestamp', timestamps_2000KHz)  # Add timestamp column back\n",
        "normalized_2000KHzdata['label'] = labels_2000KHz.values  # Add label column back\n",
        "\n",
        "print(\"Normalized 100KHz Data Sample:\")\n",
        "print(normalized_100KHzdata.head())\n",
        "print(len(normalized_100KHzdata))\n",
        "print(\"\\nNormalized 2000KHz Data Sample:\")\n",
        "print(normalized_2000KHzdata.head())\n",
        "print(len(normalized_2000KHzdata))\n"
      ],
      "metadata": {
        "colab": {
          "base_uri": "https://localhost:8080/"
        },
        "id": "iacc3sO93eFk",
        "outputId": "85c7b17b-7d76-47dc-da9c-c3c6828dc8ca"
      },
      "id": "iacc3sO93eFk",
      "execution_count": 3,
      "outputs": [
        {
          "output_type": "stream",
          "name": "stdout",
          "text": [
            "Normalized 100KHz Data Sample:\n",
            "            timestamp  Irms_Grinding_rate100000_clipping0_batch0  \\\n",
            "0 2024-02-14 22:00:10                                  -1.213932   \n",
            "1 2024-02-14 22:04:13                                  -1.059871   \n",
            "2 2024-02-14 22:05:15                                  -1.014171   \n",
            "3 2024-02-14 22:03:43                                  -1.082180   \n",
            "4 2024-02-14 22:01:11                                  -1.185769   \n",
            "\n",
            "   Grinding spindle current L1_rate100000_clipping0_batch0  \\\n",
            "0                                           0.410776         \n",
            "1                                           1.275351         \n",
            "2                                           0.286297         \n",
            "3                                          -0.208334         \n",
            "4                                           1.423043         \n",
            "\n",
            "   Grinding spindle current L2_rate100000_clipping0_batch0  \\\n",
            "0                                          -0.126537         \n",
            "1                                           1.918509         \n",
            "2                                           0.143756         \n",
            "3                                           0.938269         \n",
            "4                                           1.256994         \n",
            "\n",
            "   Grinding spindle current L3_rate100000_clipping0_batch0  label  \n",
            "0                                          -0.436171            0  \n",
            "1                                          -0.403926            0  \n",
            "2                                           0.565636            0  \n",
            "3                                           0.652915            0  \n",
            "4                                          -0.601523            0  \n",
            "58\n",
            "\n",
            "Normalized 2000KHz Data Sample:\n",
            "            timestamp  AEKi_rate2000000_clipping0_batch0  label\n",
            "0 2024-02-14 22:00:10                          -1.575957      0\n",
            "1 2024-02-14 22:04:13                          -0.388929      0\n",
            "2 2024-02-14 22:05:15                          -0.294156      0\n",
            "3 2024-02-14 22:03:43                          -0.943421      0\n",
            "4 2024-02-14 22:01:11                          -0.974924      0\n",
            "58\n"
          ]
        }
      ]
    },
    {
      "cell_type": "code",
      "source": [
        "import pandas as pd\n",
        "\n",
        "# Concatenate the 100KHz and 2000KHz data\n",
        "normalized_100KHzdata = normalized_100KHzdata.set_index('timestamp')\n",
        "normalized_2000KHzdata = normalized_2000KHzdata.set_index('timestamp')\n",
        "\n",
        "# Concatenate along columns\n",
        "combined_data = pd.concat([normalized_100KHzdata, normalized_2000KHzdata], axis=1, join='inner').reset_index()\n",
        "\n",
        "# Remove duplicate 'label' columns and keep the first one\n",
        "combined_data = combined_data.loc[:, ~combined_data.columns.duplicated()]\n",
        "\n",
        "# Ensure the label column is at the end\n",
        "label = combined_data.pop('label')\n",
        "combined_data['label'] = label\n",
        "\n",
        "print(\"Combined Data Sample:\")\n",
        "print(combined_data.head())\n",
        "print(len(combined_data))\n"
      ],
      "metadata": {
        "id": "_JuZgFP3EgPV",
        "colab": {
          "base_uri": "https://localhost:8080/"
        },
        "outputId": "bfa5fc8a-7c82-49a6-a419-c95c90e0fb48"
      },
      "id": "_JuZgFP3EgPV",
      "execution_count": 4,
      "outputs": [
        {
          "output_type": "stream",
          "name": "stdout",
          "text": [
            "Combined Data Sample:\n",
            "            timestamp  Irms_Grinding_rate100000_clipping0_batch0  \\\n",
            "0 2024-02-14 22:00:10                                  -1.213932   \n",
            "1 2024-02-14 22:04:13                                  -1.059871   \n",
            "2 2024-02-14 22:05:15                                  -1.014171   \n",
            "3 2024-02-14 22:03:43                                  -1.082180   \n",
            "4 2024-02-14 22:01:11                                  -1.185769   \n",
            "\n",
            "   Grinding spindle current L1_rate100000_clipping0_batch0  \\\n",
            "0                                           0.410776         \n",
            "1                                           1.275351         \n",
            "2                                           0.286297         \n",
            "3                                          -0.208334         \n",
            "4                                           1.423043         \n",
            "\n",
            "   Grinding spindle current L2_rate100000_clipping0_batch0  \\\n",
            "0                                          -0.126537         \n",
            "1                                           1.918509         \n",
            "2                                           0.143756         \n",
            "3                                           0.938269         \n",
            "4                                           1.256994         \n",
            "\n",
            "   Grinding spindle current L3_rate100000_clipping0_batch0  \\\n",
            "0                                          -0.436171         \n",
            "1                                          -0.403926         \n",
            "2                                           0.565636         \n",
            "3                                           0.652915         \n",
            "4                                          -0.601523         \n",
            "\n",
            "   AEKi_rate2000000_clipping0_batch0  label  \n",
            "0                          -1.575957      0  \n",
            "1                          -0.388929      0  \n",
            "2                          -0.294156      0  \n",
            "3                          -0.943421      0  \n",
            "4                          -0.974924      0  \n",
            "58\n"
          ]
        }
      ]
    },
    {
      "cell_type": "code",
      "source": [
        "import numpy as np\n",
        "\n",
        "def create_labeled_sequences(data, sequence_length=10):\n",
        "    sequences = []\n",
        "    labels = []\n",
        "    for i in range(len(data) - sequence_length):\n",
        "        seq = data.iloc[i:i+sequence_length, 1:-1].values  # Sequence of sensor readings (exclude timestamp and label)\n",
        "        label = data.iloc[i+sequence_length - 1, -1]  # Label of the last point in the sequence\n",
        "        sequences.append(seq)\n",
        "        labels.append(label)\n",
        "    return np.array(sequences), np.array(labels)\n",
        "\n",
        "# Define sequence length\n",
        "sequence_length = 10\n",
        "\n",
        "# Create labeled sequences for the combined data\n",
        "X_combined, y_combined = create_labeled_sequences(combined_data, sequence_length)\n",
        "print(f\"Combined Sequences shape: {X_combined.shape}\")\n",
        "print(f\"Combined Labels shape: {y_combined.shape}\")\n"
      ],
      "metadata": {
        "colab": {
          "base_uri": "https://localhost:8080/"
        },
        "id": "NkTjaq76a7xv",
        "outputId": "96abd4d1-2ee4-4c99-af16-895f2c904ea8"
      },
      "id": "NkTjaq76a7xv",
      "execution_count": 5,
      "outputs": [
        {
          "output_type": "stream",
          "name": "stdout",
          "text": [
            "Combined Sequences shape: (48, 10, 5)\n",
            "Combined Labels shape: (48,)\n"
          ]
        }
      ]
    },
    {
      "cell_type": "code",
      "source": [
        "import tensorflow as tf\n",
        "from tensorflow.keras.losses import Loss\n",
        "\n",
        "class CustomLoss(Loss):\n",
        "    def __init__(self, name=\"custom_loss\"):\n",
        "        super().__init__(name=name)\n",
        "\n",
        "    def call(self, y_true, y_pred):\n",
        "        main_loss = tf.keras.losses.binary_crossentropy(y_true, y_pred)\n",
        "        auxiliary_loss = self.calculate_auxiliary_loss(y_true, y_pred)\n",
        "        total_loss = main_loss + auxiliary_loss\n",
        "        return total_loss\n",
        "\n",
        "    def calculate_auxiliary_loss(self, y_true, y_pred):\n",
        "        mse_loss = tf.keras.losses.mean_squared_error(y_true, y_pred)\n",
        "        return mse_loss\n"
      ],
      "metadata": {
        "id": "86EE77EqdJtU"
      },
      "id": "86EE77EqdJtU",
      "execution_count": 6,
      "outputs": []
    },
    {
      "cell_type": "code",
      "source": [
        "from tensorflow.keras.models import Sequential\n",
        "from tensorflow.keras.layers import LSTM, Dense, Dropout\n",
        "from tensorflow.keras.callbacks import EarlyStopping\n",
        "from tensorflow.keras.metrics import Precision, Recall\n",
        "\n",
        "# Create an LSTM model with Dropout\n",
        "def create_lstm_model(input_shape):\n",
        "    model = Sequential()\n",
        "    model.add(LSTM(50, return_sequences=True, input_shape=input_shape))\n",
        "    model.add(Dropout(0.2))  # Add dropout layer\n",
        "    model.add(LSTM(50))\n",
        "    model.add(Dropout(0.2))  # Add dropout layer\n",
        "    model.add(Dense(1, activation='sigmoid'))  # Output layer with sigmoid activation for binary classification\n",
        "    model.compile(optimizer='adam', loss=CustomLoss(), metrics=['accuracy', Precision(name='precision'), Recall(name='recall')])\n",
        "    return model\n",
        "\n",
        "# Define input shape based on the combined data\n",
        "input_shape_combined = (sequence_length, X_combined.shape[2])\n",
        "\n",
        "# Create LSTM model for the combined data\n",
        "model_combined = create_lstm_model(input_shape_combined)\n",
        "\n",
        "# Define early stopping callback\n",
        "early_stopping = EarlyStopping(monitor='val_loss', patience=3, restore_best_weights=True)\n",
        "\n",
        "X_train, X_val, y_train, y_val = train_test_split(X_combined, y_combined, test_size=0.3, stratify=y_combined, random_state=42)\n",
        "# Train the model\n",
        "history = model_combined.fit(\n",
        "    X_train, y_train,\n",
        "    epochs=50,\n",
        "    batch_size=8,\n",
        "    validation_data=(X_val, y_val),\n",
        "    callbacks=[early_stopping]\n",
        ")\n",
        "\n",
        "# Save the model\n",
        "model_combined.save('AEGuard.h5')\n"
      ],
      "metadata": {
        "colab": {
          "base_uri": "https://localhost:8080/"
        },
        "id": "es0kyD7WE-Fx",
        "outputId": "894efbed-b9a6-4c5c-e006-8669b128694e"
      },
      "id": "es0kyD7WE-Fx",
      "execution_count": 7,
      "outputs": [
        {
          "output_type": "stream",
          "name": "stdout",
          "text": [
            "Epoch 1/50\n",
            "5/5 [==============================] - 8s 229ms/step - loss: 0.9050 - accuracy: 0.6364 - precision: 0.5385 - recall: 0.5385 - val_loss: 0.7984 - val_accuracy: 1.0000 - val_precision: 1.0000 - val_recall: 1.0000\n",
            "Epoch 2/50\n",
            "5/5 [==============================] - 0s 20ms/step - loss: 0.7562 - accuracy: 0.8485 - precision: 1.0000 - recall: 0.6154 - val_loss: 0.6457 - val_accuracy: 1.0000 - val_precision: 1.0000 - val_recall: 1.0000\n",
            "Epoch 3/50\n",
            "5/5 [==============================] - 0s 17ms/step - loss: 0.6411 - accuracy: 0.8485 - precision: 1.0000 - recall: 0.6154 - val_loss: 0.5015 - val_accuracy: 1.0000 - val_precision: 1.0000 - val_recall: 1.0000\n",
            "Epoch 4/50\n",
            "5/5 [==============================] - 0s 19ms/step - loss: 0.5270 - accuracy: 0.8485 - precision: 1.0000 - recall: 0.6154 - val_loss: 0.3696 - val_accuracy: 1.0000 - val_precision: 1.0000 - val_recall: 1.0000\n",
            "Epoch 5/50\n",
            "5/5 [==============================] - 0s 20ms/step - loss: 0.4938 - accuracy: 0.8485 - precision: 1.0000 - recall: 0.6154 - val_loss: 0.2779 - val_accuracy: 1.0000 - val_precision: 1.0000 - val_recall: 1.0000\n",
            "Epoch 6/50\n",
            "5/5 [==============================] - 0s 22ms/step - loss: 0.4523 - accuracy: 0.8485 - precision: 1.0000 - recall: 0.6154 - val_loss: 0.2150 - val_accuracy: 1.0000 - val_precision: 1.0000 - val_recall: 1.0000\n",
            "Epoch 7/50\n",
            "5/5 [==============================] - 0s 16ms/step - loss: 0.3845 - accuracy: 0.8485 - precision: 1.0000 - recall: 0.6154 - val_loss: 0.1719 - val_accuracy: 1.0000 - val_precision: 1.0000 - val_recall: 1.0000\n",
            "Epoch 8/50\n",
            "5/5 [==============================] - 0s 19ms/step - loss: 0.3153 - accuracy: 0.8788 - precision: 1.0000 - recall: 0.6923 - val_loss: 0.1413 - val_accuracy: 1.0000 - val_precision: 1.0000 - val_recall: 1.0000\n",
            "Epoch 9/50\n",
            "5/5 [==============================] - 0s 16ms/step - loss: 0.2596 - accuracy: 0.9091 - precision: 1.0000 - recall: 0.7692 - val_loss: 0.1132 - val_accuracy: 1.0000 - val_precision: 1.0000 - val_recall: 1.0000\n",
            "Epoch 10/50\n",
            "5/5 [==============================] - 0s 16ms/step - loss: 0.2170 - accuracy: 0.9091 - precision: 1.0000 - recall: 0.7692 - val_loss: 0.0910 - val_accuracy: 1.0000 - val_precision: 1.0000 - val_recall: 1.0000\n",
            "Epoch 11/50\n",
            "5/5 [==============================] - 0s 16ms/step - loss: 0.1813 - accuracy: 0.9394 - precision: 1.0000 - recall: 0.8462 - val_loss: 0.0719 - val_accuracy: 1.0000 - val_precision: 1.0000 - val_recall: 1.0000\n",
            "Epoch 12/50\n",
            "5/5 [==============================] - 0s 19ms/step - loss: 0.1526 - accuracy: 0.9697 - precision: 1.0000 - recall: 0.9231 - val_loss: 0.0568 - val_accuracy: 1.0000 - val_precision: 1.0000 - val_recall: 1.0000\n",
            "Epoch 13/50\n",
            "5/5 [==============================] - 0s 21ms/step - loss: 0.1336 - accuracy: 0.9697 - precision: 1.0000 - recall: 0.9231 - val_loss: 0.0430 - val_accuracy: 1.0000 - val_precision: 1.0000 - val_recall: 1.0000\n",
            "Epoch 14/50\n",
            "5/5 [==============================] - 0s 21ms/step - loss: 0.1311 - accuracy: 0.9394 - precision: 1.0000 - recall: 0.8462 - val_loss: 0.0352 - val_accuracy: 1.0000 - val_precision: 1.0000 - val_recall: 1.0000\n",
            "Epoch 15/50\n",
            "5/5 [==============================] - 0s 19ms/step - loss: 0.1070 - accuracy: 0.9697 - precision: 1.0000 - recall: 0.9231 - val_loss: 0.0290 - val_accuracy: 1.0000 - val_precision: 1.0000 - val_recall: 1.0000\n",
            "Epoch 16/50\n",
            "5/5 [==============================] - 0s 17ms/step - loss: 0.0856 - accuracy: 1.0000 - precision: 1.0000 - recall: 1.0000 - val_loss: 0.0238 - val_accuracy: 1.0000 - val_precision: 1.0000 - val_recall: 1.0000\n",
            "Epoch 17/50\n",
            "5/5 [==============================] - 0s 20ms/step - loss: 0.0724 - accuracy: 1.0000 - precision: 1.0000 - recall: 1.0000 - val_loss: 0.0202 - val_accuracy: 1.0000 - val_precision: 1.0000 - val_recall: 1.0000\n",
            "Epoch 18/50\n",
            "5/5 [==============================] - 0s 25ms/step - loss: 0.0574 - accuracy: 1.0000 - precision: 1.0000 - recall: 1.0000 - val_loss: 0.0174 - val_accuracy: 1.0000 - val_precision: 1.0000 - val_recall: 1.0000\n",
            "Epoch 19/50\n",
            "5/5 [==============================] - 0s 26ms/step - loss: 0.0478 - accuracy: 1.0000 - precision: 1.0000 - recall: 1.0000 - val_loss: 0.0151 - val_accuracy: 1.0000 - val_precision: 1.0000 - val_recall: 1.0000\n",
            "Epoch 20/50\n",
            "5/5 [==============================] - 0s 27ms/step - loss: 0.0428 - accuracy: 1.0000 - precision: 1.0000 - recall: 1.0000 - val_loss: 0.0135 - val_accuracy: 1.0000 - val_precision: 1.0000 - val_recall: 1.0000\n",
            "Epoch 21/50\n",
            "5/5 [==============================] - 0s 25ms/step - loss: 0.0348 - accuracy: 1.0000 - precision: 1.0000 - recall: 1.0000 - val_loss: 0.0123 - val_accuracy: 1.0000 - val_precision: 1.0000 - val_recall: 1.0000\n",
            "Epoch 22/50\n",
            "5/5 [==============================] - 0s 26ms/step - loss: 0.0290 - accuracy: 1.0000 - precision: 1.0000 - recall: 1.0000 - val_loss: 0.0108 - val_accuracy: 1.0000 - val_precision: 1.0000 - val_recall: 1.0000\n",
            "Epoch 23/50\n",
            "5/5 [==============================] - 0s 34ms/step - loss: 0.0285 - accuracy: 1.0000 - precision: 1.0000 - recall: 1.0000 - val_loss: 0.0097 - val_accuracy: 1.0000 - val_precision: 1.0000 - val_recall: 1.0000\n",
            "Epoch 24/50\n",
            "5/5 [==============================] - 0s 27ms/step - loss: 0.0207 - accuracy: 1.0000 - precision: 1.0000 - recall: 1.0000 - val_loss: 0.0090 - val_accuracy: 1.0000 - val_precision: 1.0000 - val_recall: 1.0000\n",
            "Epoch 25/50\n",
            "5/5 [==============================] - 0s 26ms/step - loss: 0.0206 - accuracy: 1.0000 - precision: 1.0000 - recall: 1.0000 - val_loss: 0.0079 - val_accuracy: 1.0000 - val_precision: 1.0000 - val_recall: 1.0000\n",
            "Epoch 26/50\n",
            "5/5 [==============================] - 0s 24ms/step - loss: 0.0155 - accuracy: 1.0000 - precision: 1.0000 - recall: 1.0000 - val_loss: 0.0071 - val_accuracy: 1.0000 - val_precision: 1.0000 - val_recall: 1.0000\n",
            "Epoch 27/50\n",
            "5/5 [==============================] - 0s 24ms/step - loss: 0.0106 - accuracy: 1.0000 - precision: 1.0000 - recall: 1.0000 - val_loss: 0.0063 - val_accuracy: 1.0000 - val_precision: 1.0000 - val_recall: 1.0000\n",
            "Epoch 28/50\n",
            "5/5 [==============================] - 0s 24ms/step - loss: 0.0097 - accuracy: 1.0000 - precision: 1.0000 - recall: 1.0000 - val_loss: 0.0053 - val_accuracy: 1.0000 - val_precision: 1.0000 - val_recall: 1.0000\n",
            "Epoch 29/50\n",
            "5/5 [==============================] - 0s 24ms/step - loss: 0.0091 - accuracy: 1.0000 - precision: 1.0000 - recall: 1.0000 - val_loss: 0.0048 - val_accuracy: 1.0000 - val_precision: 1.0000 - val_recall: 1.0000\n",
            "Epoch 30/50\n",
            "5/5 [==============================] - 0s 29ms/step - loss: 0.0101 - accuracy: 1.0000 - precision: 1.0000 - recall: 1.0000 - val_loss: 0.0046 - val_accuracy: 1.0000 - val_precision: 1.0000 - val_recall: 1.0000\n",
            "Epoch 31/50\n",
            "5/5 [==============================] - 0s 31ms/step - loss: 0.0061 - accuracy: 1.0000 - precision: 1.0000 - recall: 1.0000 - val_loss: 0.0046 - val_accuracy: 1.0000 - val_precision: 1.0000 - val_recall: 1.0000\n",
            "Epoch 32/50\n",
            "5/5 [==============================] - 0s 28ms/step - loss: 0.0095 - accuracy: 1.0000 - precision: 1.0000 - recall: 1.0000 - val_loss: 0.0045 - val_accuracy: 1.0000 - val_precision: 1.0000 - val_recall: 1.0000\n",
            "Epoch 33/50\n",
            "5/5 [==============================] - 0s 28ms/step - loss: 0.0052 - accuracy: 1.0000 - precision: 1.0000 - recall: 1.0000 - val_loss: 0.0043 - val_accuracy: 1.0000 - val_precision: 1.0000 - val_recall: 1.0000\n",
            "Epoch 34/50\n",
            "5/5 [==============================] - 0s 24ms/step - loss: 0.0040 - accuracy: 1.0000 - precision: 1.0000 - recall: 1.0000 - val_loss: 0.0041 - val_accuracy: 1.0000 - val_precision: 1.0000 - val_recall: 1.0000\n",
            "Epoch 35/50\n",
            "5/5 [==============================] - 0s 25ms/step - loss: 0.0032 - accuracy: 1.0000 - precision: 1.0000 - recall: 1.0000 - val_loss: 0.0039 - val_accuracy: 1.0000 - val_precision: 1.0000 - val_recall: 1.0000\n",
            "Epoch 36/50\n",
            "5/5 [==============================] - 0s 25ms/step - loss: 0.0041 - accuracy: 1.0000 - precision: 1.0000 - recall: 1.0000 - val_loss: 0.0037 - val_accuracy: 1.0000 - val_precision: 1.0000 - val_recall: 1.0000\n",
            "Epoch 37/50\n",
            "5/5 [==============================] - 0s 28ms/step - loss: 0.0041 - accuracy: 1.0000 - precision: 1.0000 - recall: 1.0000 - val_loss: 0.0036 - val_accuracy: 1.0000 - val_precision: 1.0000 - val_recall: 1.0000\n",
            "Epoch 38/50\n",
            "5/5 [==============================] - 0s 27ms/step - loss: 0.0027 - accuracy: 1.0000 - precision: 1.0000 - recall: 1.0000 - val_loss: 0.0035 - val_accuracy: 1.0000 - val_precision: 1.0000 - val_recall: 1.0000\n",
            "Epoch 39/50\n",
            "5/5 [==============================] - 0s 26ms/step - loss: 0.0033 - accuracy: 1.0000 - precision: 1.0000 - recall: 1.0000 - val_loss: 0.0034 - val_accuracy: 1.0000 - val_precision: 1.0000 - val_recall: 1.0000\n",
            "Epoch 40/50\n",
            "5/5 [==============================] - 0s 24ms/step - loss: 0.0029 - accuracy: 1.0000 - precision: 1.0000 - recall: 1.0000 - val_loss: 0.0033 - val_accuracy: 1.0000 - val_precision: 1.0000 - val_recall: 1.0000\n",
            "Epoch 41/50\n",
            "5/5 [==============================] - 0s 27ms/step - loss: 0.0034 - accuracy: 1.0000 - precision: 1.0000 - recall: 1.0000 - val_loss: 0.0031 - val_accuracy: 1.0000 - val_precision: 1.0000 - val_recall: 1.0000\n",
            "Epoch 42/50\n",
            "5/5 [==============================] - 0s 28ms/step - loss: 0.0030 - accuracy: 1.0000 - precision: 1.0000 - recall: 1.0000 - val_loss: 0.0029 - val_accuracy: 1.0000 - val_precision: 1.0000 - val_recall: 1.0000\n",
            "Epoch 43/50\n",
            "5/5 [==============================] - 0s 25ms/step - loss: 0.0023 - accuracy: 1.0000 - precision: 1.0000 - recall: 1.0000 - val_loss: 0.0027 - val_accuracy: 1.0000 - val_precision: 1.0000 - val_recall: 1.0000\n",
            "Epoch 44/50\n",
            "5/5 [==============================] - 0s 26ms/step - loss: 0.0023 - accuracy: 1.0000 - precision: 1.0000 - recall: 1.0000 - val_loss: 0.0025 - val_accuracy: 1.0000 - val_precision: 1.0000 - val_recall: 1.0000\n",
            "Epoch 45/50\n",
            "5/5 [==============================] - 0s 25ms/step - loss: 0.0025 - accuracy: 1.0000 - precision: 1.0000 - recall: 1.0000 - val_loss: 0.0024 - val_accuracy: 1.0000 - val_precision: 1.0000 - val_recall: 1.0000\n",
            "Epoch 46/50\n",
            "5/5 [==============================] - 0s 27ms/step - loss: 0.0023 - accuracy: 1.0000 - precision: 1.0000 - recall: 1.0000 - val_loss: 0.0023 - val_accuracy: 1.0000 - val_precision: 1.0000 - val_recall: 1.0000\n",
            "Epoch 47/50\n",
            "5/5 [==============================] - 0s 30ms/step - loss: 0.0021 - accuracy: 1.0000 - precision: 1.0000 - recall: 1.0000 - val_loss: 0.0022 - val_accuracy: 1.0000 - val_precision: 1.0000 - val_recall: 1.0000\n",
            "Epoch 48/50\n",
            "5/5 [==============================] - 0s 26ms/step - loss: 0.0024 - accuracy: 1.0000 - precision: 1.0000 - recall: 1.0000 - val_loss: 0.0021 - val_accuracy: 1.0000 - val_precision: 1.0000 - val_recall: 1.0000\n",
            "Epoch 49/50\n",
            "5/5 [==============================] - 0s 23ms/step - loss: 0.0018 - accuracy: 1.0000 - precision: 1.0000 - recall: 1.0000 - val_loss: 0.0021 - val_accuracy: 1.0000 - val_precision: 1.0000 - val_recall: 1.0000\n",
            "Epoch 50/50\n",
            "5/5 [==============================] - 0s 30ms/step - loss: 0.0022 - accuracy: 1.0000 - precision: 1.0000 - recall: 1.0000 - val_loss: 0.0020 - val_accuracy: 1.0000 - val_precision: 1.0000 - val_recall: 1.0000\n"
          ]
        },
        {
          "output_type": "stream",
          "name": "stderr",
          "text": [
            "/usr/local/lib/python3.10/dist-packages/keras/src/engine/training.py:3103: UserWarning: You are saving your model as an HDF5 file via `model.save()`. This file format is considered legacy. We recommend using instead the native Keras format, e.g. `model.save('my_model.keras')`.\n",
            "  saving_api.save_model(\n"
          ]
        }
      ]
    },
    {
      "cell_type": "code",
      "source": [
        "import matplotlib.pyplot as plt\n",
        "from sklearn.metrics import confusion_matrix, classification_report\n",
        "\n",
        "plt.plot(history.history['accuracy'])\n",
        "plt.plot(history.history['val_accuracy'])\n",
        "plt.title('Model accuracy')\n",
        "plt.ylabel('Accuracy')\n",
        "plt.xlabel('Epoch')\n",
        "plt.legend(['Train', 'Validation'], loc='upper left')\n",
        "plt.show()\n",
        "\n",
        "# Plot training & validation loss values\n",
        "plt.plot(history.history['loss'])\n",
        "plt.plot(history.history['val_loss'])\n",
        "plt.title('Model loss')\n",
        "plt.ylabel('Loss')\n",
        "plt.xlabel('Epoch')\n",
        "plt.legend(['Train', 'Validation'], loc='upper left')\n",
        "plt.show()\n",
        "\n",
        "# Evaluate the model on the validation set\n",
        "X_val = X_combined[int(0.7*len(X_combined)):]\n",
        "y_val = y_combined[int(0.7*len(y_combined)):]\n",
        "\n",
        "y_pred = (model_combined.predict(X_val) > 0.5).astype(\"int32\")\n",
        "\n",
        "# Classification report\n",
        "cr = classification_report(y_val, y_pred)\n",
        "print(\"Classification Report:\")\n",
        "print(cr)\n"
      ],
      "metadata": {
        "colab": {
          "base_uri": "https://localhost:8080/",
          "height": 1000
        },
        "id": "8pMvp1l8drhu",
        "outputId": "d1be8abf-a627-46e3-cc37-0b03506c5739"
      },
      "id": "8pMvp1l8drhu",
      "execution_count": 23,
      "outputs": [
        {
          "output_type": "display_data",
          "data": {
            "text/plain": [
              "<Figure size 640x480 with 1 Axes>"
            ],
            "image/png": "[encoded data removed]"
          },
          "metadata": {}
        },
        {
          "output_type": "display_data",
          "data": {
            "text/plain": [
              "<Figure size 640x480 with 1 Axes>"
            ],
            "image/png": "[encoded data removed]"
          },
          "metadata": {}
        },
        {
          "output_type": "stream",
          "name": "stdout",
          "text": [
            "1/1 [==============================] - 0s 21ms/step\n",
            "Classification Report:\n",
            "              precision    recall  f1-score   support\n",
            "\n",
            "           1       1.00      1.00      1.00        15\n",
            "\n",
            "    accuracy                           1.00        15\n",
            "   macro avg       1.00      1.00      1.00        15\n",
            "weighted avg       1.00      1.00      1.00        15\n",
            "\n"
          ]
        }
      ]
    }
  ],
  "metadata": {
    "kernelspec": {
      "display_name": "Python 3",
      "name": "python3"
    },
    "language_info": {
      "codemirror_mode": {
        "name": "ipython",
        "version": 3
      },
      "file_extension": ".py",
      "mimetype": "text/x-python",
      "name": "python",
      "nbconvert_exporter": "python",
      "pygments_lexer": "ipython3",
      "version": "3.11.5"
    },
    "colab": {
      "provenance": [],
      "gpuType": "T4",
      "include_colab_link": true
    },
    "accelerator": "GPU"
  },
  "nbformat": 4,
  "nbformat_minor": 5
}