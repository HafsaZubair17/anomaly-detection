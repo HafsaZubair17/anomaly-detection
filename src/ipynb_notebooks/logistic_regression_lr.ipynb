{
  "cells": [
    {
      "cell_type": "markdown",
      "metadata": {
        "id": "view-in-github",
        "colab_type": "text"
      },
      "source": [
        "<a href=\"https://colab.research.google.com/github/RitikaHiremath/DataScience/blob/main/logistic_regression_lr.ipynb\" target=\"_parent\"><img src=\"https://colab.research.google.com/assets/colab-badge.svg\" alt=\"Open In Colab\"/></a>"
      ]
    },
    {
      "cell_type": "markdown",
      "source": [
        "#Data Access and Processing\n"
      ],
      "metadata": {
        "id": "2cG5FHQpriZt"
      },
      "id": "2cG5FHQpriZt"
    },
    {
      "cell_type": "code",
      "source": [
        "from google.colab import drive\n",
        "drive.mount('/content/gdrive')"
      ],
      "metadata": {
        "id": "-0FDSDx1MZj9",
        "colab": {
          "base_uri": "https://localhost:8080/"
        },
        "outputId": "a274d08f-07e6-46a9-8a93-43722453bb8d"
      },
      "id": "-0FDSDx1MZj9",
      "execution_count": null,
      "outputs": [
        {
          "output_type": "stream",
          "name": "stdout",
          "text": [
            "Mounted at /content/gdrive\n"
          ]
        }
      ]
    },
    {
      "cell_type": "code",
      "source": [
        "import pandas as pd\n",
        "import os\n",
        "\n",
        "def load_and_label_data(base_path, label, max_files=None):\n",
        "    combined_100KHzdata = []\n",
        "    combined_2000KHzdata = []\n",
        "\n",
        "    # Initialize a counter\n",
        "    file_counter = 0\n",
        "\n",
        "    # Iterate over each timestamped folder\n",
        "    for timestamp_folder in os.listdir(base_path):\n",
        "        if max_files and file_counter >= max_files:\n",
        "            break\n",
        "\n",
        "        timestamp_folder_path = os.path.join(base_path, timestamp_folder, \"raw\")\n",
        "\n",
        "        # Extract the full timestamp from the folder name and convert to datetime format\n",
        "        timestamp = timestamp_folder.split('_')[0] + '_' + timestamp_folder.split('_')[1]\n",
        "        timestamp = pd.to_datetime(timestamp, format='%Y.%m.%d_%H.%M.%S')\n",
        "\n",
        "        # Load the 2000KHz data\n",
        "        df_2000KHz = pd.read_parquet(os.path.join(timestamp_folder_path, \"Sampling2000KHz_AEKi-0.parquet\"))\n",
        "        mean_2000KHz = df_2000KHz.mean().to_frame().T\n",
        "        mean_2000KHz['timestamp'] = timestamp\n",
        "        mean_2000KHz['label'] = label\n",
        "\n",
        "        # Load the 100KHz data\n",
        "        df_100KHz = pd.read_parquet(os.path.join(timestamp_folder_path, \"Sampling100KHz_Irms_Grinding-Grinding spindle current L1-Grinding spindle current L2-Grinding spindle current L3-0.parquet\"))\n",
        "        mean_100KHz = df_100KHz.mean().to_frame().T\n",
        "        mean_100KHz['timestamp'] = timestamp\n",
        "        mean_100KHz['label'] = label\n",
        "\n",
        "        # Append the mean data to the combined lists\n",
        "        combined_100KHzdata.append(mean_100KHz)\n",
        "        combined_2000KHzdata.append(mean_2000KHz)\n",
        "\n",
        "        # Increment the counter\n",
        "        file_counter += 1\n",
        "\n",
        "    # Combine all the mean data into a single dataframe\n",
        "    final_combined_100KHzdata = pd.concat(combined_100KHzdata, ignore_index=True)\n",
        "    final_combined_2000KHzdata = pd.concat(combined_2000KHzdata, ignore_index=True)\n",
        "\n",
        "    return final_combined_100KHzdata, final_combined_2000KHzdata\n",
        "\n",
        "# Define the paths to the OK and NOK data directories\n",
        "ok_data_path = '/content/gdrive/MyDrive/Data/OK_Measurements'\n",
        "nok_data_path = '/content/gdrive/MyDrive/Data/NOK_Measurements'\n",
        "\n",
        "# Load OK and NOK data\n",
        "ok_100KHzdata, ok_2000KHzdata = load_and_label_data(ok_data_path, label=0)\n",
        "nok_100KHzdata, nok_2000KHzdata = load_and_label_data(nok_data_path, label=1)\n",
        "\n",
        "# Combine OK and NOK data\n",
        "all_100KHzdata = pd.concat([ok_100KHzdata, nok_100KHzdata], ignore_index=True)\n",
        "all_2000KHzdata = pd.concat([ok_2000KHzdata, nok_2000KHzdata], ignore_index=True)\n",
        "\n",
        "# Print the first few rows of the combined data for inspection\n",
        "print(\"Combined 100KHz Data Sample (Mean):\")\n",
        "print(all_100KHzdata.head())\n",
        "print(\"\\nCombined 2000KHz Data Sample (Mean):\")\n",
        "print(all_2000KHzdata.head())\n"
      ],
      "metadata": {
        "colab": {
          "base_uri": "https://localhost:8080/"
        },
        "id": "JGD5GDG90fqr",
        "outputId": "66043c6e-f0a0-446f-e193-9c64ba91f870"
      },
      "id": "JGD5GDG90fqr",
      "execution_count": null,
      "outputs": [
        {
          "output_type": "stream",
          "name": "stdout",
          "text": [
            "Combined 100KHz Data Sample (Mean):\n",
            "   Irms_Grinding_rate100000_clipping0_batch0  \\\n",
            "0                                   0.085166   \n",
            "1                                   0.085681   \n",
            "2                                   0.085834   \n",
            "3                                   0.085607   \n",
            "4                                   0.085260   \n",
            "\n",
            "   Grinding spindle current L1_rate100000_clipping0_batch0  \\\n",
            "0                                          -0.000076         \n",
            "1                                          -0.000062         \n",
            "2                                          -0.000078         \n",
            "3                                          -0.000086         \n",
            "4                                          -0.000060         \n",
            "\n",
            "   Grinding spindle current L2_rate100000_clipping0_batch0  \\\n",
            "0                                           0.000064         \n",
            "1                                           0.000100         \n",
            "2                                           0.000069         \n",
            "3                                           0.000083         \n",
            "4                                           0.000088         \n",
            "\n",
            "   Grinding spindle current L3_rate100000_clipping0_batch0  \\\n",
            "0                                           0.000294         \n",
            "1                                           0.000295         \n",
            "2                                           0.000310         \n",
            "3                                           0.000312         \n",
            "4                                           0.000292         \n",
            "\n",
            "            timestamp  label  \n",
            "0 2024-02-14 22:00:10      0  \n",
            "1 2024-02-14 22:04:13      0  \n",
            "2 2024-02-14 22:05:15      0  \n",
            "3 2024-02-14 22:03:43      0  \n",
            "4 2024-02-14 22:01:11      0  \n",
            "\n",
            "Combined 2000KHz Data Sample (Mean):\n",
            "   AEKi_rate2000000_clipping0_batch0           timestamp  label\n",
            "0                          -0.001509 2024-02-14 22:00:10      0\n",
            "1                          -0.000890 2024-02-14 22:04:13      0\n",
            "2                          -0.000840 2024-02-14 22:05:15      0\n",
            "3                          -0.001179 2024-02-14 22:03:43      0\n",
            "4                          -0.001196 2024-02-14 22:01:11      0\n"
          ]
        }
      ]
    },
    {
      "cell_type": "code",
      "source": [
        "from sklearn.preprocessing import StandardScaler\n",
        "\n",
        "# Separate features and labels for 100KHz data\n",
        "features_100KHz = all_100KHzdata.drop(columns=['timestamp', 'label'])  # Exclude timestamp and label\n",
        "timestamps_100KHz = all_100KHzdata['timestamp']\n",
        "labels_100KHz = all_100KHzdata['label']\n",
        "\n",
        "# Normalize features for 100KHz data\n",
        "scaler_100KHz = StandardScaler()\n",
        "normalized_features_100KHz = scaler_100KHz.fit_transform(features_100KHz)\n",
        "\n",
        "# Combine normalized features with timestamps and labels\n",
        "normalized_100KHzdata = pd.DataFrame(normalized_features_100KHz, columns=features_100KHz.columns)\n",
        "normalized_100KHzdata.insert(0, 'timestamp', timestamps_100KHz)  # Add timestamp column back\n",
        "normalized_100KHzdata['label'] = labels_100KHz.values  # Add label column back\n",
        "\n",
        "# Separate features and labels for 2000KHz data\n",
        "features_2000KHz = all_2000KHzdata.drop(columns=['timestamp', 'label'])  # Exclude timestamp and label\n",
        "timestamps_2000KHz = all_2000KHzdata['timestamp']\n",
        "labels_2000KHz = all_2000KHzdata['label']\n",
        "\n",
        "# Normalize features for 2000KHz data\n",
        "scaler_2000KHz = StandardScaler()\n",
        "normalized_features_2000KHz = scaler_2000KHz.fit_transform(features_2000KHz)\n",
        "\n",
        "# Combine normalized features with timestamps and labels\n",
        "normalized_2000KHzdata = pd.DataFrame(normalized_features_2000KHz, columns=features_2000KHz.columns)\n",
        "normalized_2000KHzdata.insert(0, 'timestamp', timestamps_2000KHz)  # Add timestamp column back\n",
        "normalized_2000KHzdata['label'] = labels_2000KHz.values  # Add label column back\n",
        "\n",
        "print(\"Normalized 100KHz Data Sample:\")\n",
        "print(normalized_100KHzdata.head())\n",
        "print(len(normalized_100KHzdata))\n",
        "print(\"\\nNormalized 2000KHz Data Sample:\")\n",
        "print(normalized_2000KHzdata.head())\n",
        "print(len(normalized_2000KHzdata))\n"
      ],
      "metadata": {
        "colab": {
          "base_uri": "https://localhost:8080/"
        },
        "id": "iacc3sO93eFk",
        "outputId": "1a90417d-bc45-48aa-bafe-ce122c1c834e"
      },
      "id": "iacc3sO93eFk",
      "execution_count": null,
      "outputs": [
        {
          "output_type": "stream",
          "name": "stdout",
          "text": [
            "Normalized 100KHz Data Sample:\n",
            "            timestamp  Irms_Grinding_rate100000_clipping0_batch0  \\\n",
            "0 2024-02-14 22:00:10                                  -1.213932   \n",
            "1 2024-02-14 22:04:13                                  -1.059871   \n",
            "2 2024-02-14 22:05:15                                  -1.014171   \n",
            "3 2024-02-14 22:03:43                                  -1.082180   \n",
            "4 2024-02-14 22:01:11                                  -1.185769   \n",
            "\n",
            "   Grinding spindle current L1_rate100000_clipping0_batch0  \\\n",
            "0                                           0.410776         \n",
            "1                                           1.275351         \n",
            "2                                           0.286297         \n",
            "3                                          -0.208334         \n",
            "4                                           1.423043         \n",
            "\n",
            "   Grinding spindle current L2_rate100000_clipping0_batch0  \\\n",
            "0                                          -0.126537         \n",
            "1                                           1.918509         \n",
            "2                                           0.143756         \n",
            "3                                           0.938269         \n",
            "4                                           1.256994         \n",
            "\n",
            "   Grinding spindle current L3_rate100000_clipping0_batch0  label  \n",
            "0                                          -0.436171            0  \n",
            "1                                          -0.403926            0  \n",
            "2                                           0.565636            0  \n",
            "3                                           0.652915            0  \n",
            "4                                          -0.601523            0  \n",
            "58\n",
            "\n",
            "Normalized 2000KHz Data Sample:\n",
            "            timestamp  AEKi_rate2000000_clipping0_batch0  label\n",
            "0 2024-02-14 22:00:10                          -1.575957      0\n",
            "1 2024-02-14 22:04:13                          -0.388929      0\n",
            "2 2024-02-14 22:05:15                          -0.294156      0\n",
            "3 2024-02-14 22:03:43                          -0.943421      0\n",
            "4 2024-02-14 22:01:11                          -0.974924      0\n",
            "58\n"
          ]
        }
      ]
    },
    {
      "cell_type": "code",
      "source": [
        "import pandas as pd\n",
        "\n",
        "# Concatenate the 100KHz and 2000KHz data\n",
        "normalized_100KHzdata = normalized_100KHzdata.set_index('timestamp')\n",
        "normalized_2000KHzdata = normalized_2000KHzdata.set_index('timestamp')\n",
        "\n",
        "# Concatenate along columns\n",
        "combined_data = pd.concat([normalized_100KHzdata, normalized_2000KHzdata], axis=1, join='inner').reset_index()\n",
        "\n",
        "# Remove duplicate 'label' columns and keep the first one\n",
        "combined_data = combined_data.loc[:, ~combined_data.columns.duplicated()]\n",
        "\n",
        "# Ensure the label column is at the end\n",
        "label = combined_data.pop('label')\n",
        "combined_data['label'] = label\n",
        "\n",
        "print(\"Combined Data Sample:\")\n",
        "print(combined_data.head())\n",
        "print(len(combined_data))\n"
      ],
      "metadata": {
        "id": "_JuZgFP3EgPV",
        "colab": {
          "base_uri": "https://localhost:8080/"
        },
        "outputId": "d9921e3d-5219-448c-933f-71b1ae61bb9c"
      },
      "id": "_JuZgFP3EgPV",
      "execution_count": null,
      "outputs": [
        {
          "output_type": "stream",
          "name": "stdout",
          "text": [
            "Combined Data Sample:\n",
            "            timestamp  Irms_Grinding_rate100000_clipping0_batch0  \\\n",
            "0 2024-02-14 22:00:10                                  -1.213932   \n",
            "1 2024-02-14 22:04:13                                  -1.059871   \n",
            "2 2024-02-14 22:05:15                                  -1.014171   \n",
            "3 2024-02-14 22:03:43                                  -1.082180   \n",
            "4 2024-02-14 22:01:11                                  -1.185769   \n",
            "\n",
            "   Grinding spindle current L1_rate100000_clipping0_batch0  \\\n",
            "0                                           0.410776         \n",
            "1                                           1.275351         \n",
            "2                                           0.286297         \n",
            "3                                          -0.208334         \n",
            "4                                           1.423043         \n",
            "\n",
            "   Grinding spindle current L2_rate100000_clipping0_batch0  \\\n",
            "0                                          -0.126537         \n",
            "1                                           1.918509         \n",
            "2                                           0.143756         \n",
            "3                                           0.938269         \n",
            "4                                           1.256994         \n",
            "\n",
            "   Grinding spindle current L3_rate100000_clipping0_batch0  \\\n",
            "0                                          -0.436171         \n",
            "1                                          -0.403926         \n",
            "2                                           0.565636         \n",
            "3                                           0.652915         \n",
            "4                                          -0.601523         \n",
            "\n",
            "   AEKi_rate2000000_clipping0_batch0  label  \n",
            "0                          -1.575957      0  \n",
            "1                          -0.388929      0  \n",
            "2                          -0.294156      0  \n",
            "3                          -0.943421      0  \n",
            "4                          -0.974924      0  \n",
            "58\n"
          ]
        }
      ]
    },
    {
      "cell_type": "code",
      "source": [
        "import numpy as np\n",
        "\n",
        "def create_labeled_sequences(data, sequence_length=10):\n",
        "    sequences = []\n",
        "    labels = []\n",
        "    for i in range(len(data) - sequence_length):\n",
        "        seq = data.iloc[i:i+sequence_length, 1:-1].values  # Sequence of sensor readings (exclude timestamp and label)\n",
        "        label = data.iloc[i+sequence_length - 1, -1]  # Label of the last point in the sequence\n",
        "        sequences.append(seq)\n",
        "        labels.append(label)\n",
        "    return np.array(sequences), np.array(labels)\n",
        "\n",
        "# Define sequence length\n",
        "sequence_length = 10\n",
        "\n",
        "# Create labeled sequences for the combined data\n",
        "X_combined, y_combined = create_labeled_sequences(combined_data, sequence_length)\n",
        "print(f\"Combined Sequences shape: {X_combined.shape}\")\n",
        "print(f\"Combined Labels shape: {y_combined.shape}\")\n"
      ],
      "metadata": {
        "colab": {
          "base_uri": "https://localhost:8080/"
        },
        "id": "NkTjaq76a7xv",
        "outputId": "67a7d99f-9058-485c-dd89-137b207c24d0"
      },
      "id": "NkTjaq76a7xv",
      "execution_count": null,
      "outputs": [
        {
          "output_type": "stream",
          "name": "stdout",
          "text": [
            "Combined Sequences shape: (48, 10, 5)\n",
            "Combined Labels shape: (48,)\n"
          ]
        }
      ]
    },
    {
      "cell_type": "markdown",
      "source": [
        "#Logistic Regression Model"
      ],
      "metadata": {
        "id": "cFxG2Ecssvkx"
      },
      "id": "cFxG2Ecssvkx"
    },
    {
      "cell_type": "code",
      "source": [
        "# Flattening the sequences for logistic regression (LR)\n",
        "# Need to do it, since, LR works with samples not sequences\n",
        "num_samples, seq_length, num_features = X_combined.shape\n",
        "X_flattened = X_combined.reshape(num_samples, seq_length * num_features)"
      ],
      "metadata": {
        "id": "kgKV-7r-szXX"
      },
      "id": "kgKV-7r-szXX",
      "execution_count": null,
      "outputs": []
    },
    {
      "cell_type": "code",
      "source": [
        "from sklearn.model_selection import train_test_split\n",
        "\n",
        "X_train, X_test, y_train, y_test = train_test_split(X_flattened, y_combined, test_size=0.3, random_state=42)"
      ],
      "metadata": {
        "id": "R2PpgXPis8eC"
      },
      "id": "R2PpgXPis8eC",
      "execution_count": null,
      "outputs": []
    },
    {
      "cell_type": "code",
      "source": [
        "from sklearn.linear_model import LogisticRegression\n",
        "\n",
        "# Initializing and training the logistic regression model\n",
        "model = LogisticRegression(max_iter=1000)  # Might need to increase max_iter\n",
        "model.fit(X_train, y_train)"
      ],
      "metadata": {
        "colab": {
          "base_uri": "https://localhost:8080/",
          "height": 74
        },
        "id": "KZs06aB3tAg6",
        "outputId": "798bb2e2-6bf1-498b-ee51-7cd9ebd9e826"
      },
      "id": "KZs06aB3tAg6",
      "execution_count": null,
      "outputs": [
        {
          "output_type": "execute_result",
          "data": {
            "text/plain": [
              "LogisticRegression(max_iter=1000)"
            ],
            "text/html": [
              "<style>#sk-container-id-2 {color: black;background-color: white;}#sk-container-id-2 pre{padding: 0;}#sk-container-id-2 div.sk-toggleable {background-color: white;}#sk-container-id-2 label.sk-toggleable__label {cursor: pointer;display: block;width: 100%;margin-bottom: 0;padding: 0.3em;box-sizing: border-box;text-align: center;}#sk-container-id-2 label.sk-toggleable__label-arrow:before {content: \"▸\";float: left;margin-right: 0.25em;color: #696969;}#sk-container-id-2 label.sk-toggleable__label-arrow:hover:before {color: black;}#sk-container-id-2 div.sk-estimator:hover label.sk-toggleable__label-arrow:before {color: black;}#sk-container-id-2 div.sk-toggleable__content {max-height: 0;max-width: 0;overflow: hidden;text-align: left;background-color: #f0f8ff;}#sk-container-id-2 div.sk-toggleable__content pre {margin: 0.2em;color: black;border-radius: 0.25em;background-color: #f0f8ff;}#sk-container-id-2 input.sk-toggleable__control:checked~div.sk-toggleable__content {max-height: 200px;max-width: 100%;overflow: auto;}#sk-container-id-2 input.sk-toggleable__control:checked~label.sk-toggleable__label-arrow:before {content: \"▾\";}#sk-container-id-2 div.sk-estimator input.sk-toggleable__control:checked~label.sk-toggleable__label {background-color: #d4ebff;}#sk-container-id-2 div.sk-label input.sk-toggleable__control:checked~label.sk-toggleable__label {background-color: #d4ebff;}#sk-container-id-2 input.sk-hidden--visually {border: 0;clip: rect(1px 1px 1px 1px);clip: rect(1px, 1px, 1px, 1px);height: 1px;margin: -1px;overflow: hidden;padding: 0;position: absolute;width: 1px;}#sk-container-id-2 div.sk-estimator {font-family: monospace;background-color: #f0f8ff;border: 1px dotted black;border-radius: 0.25em;box-sizing: border-box;margin-bottom: 0.5em;}#sk-container-id-2 div.sk-estimator:hover {background-color: #d4ebff;}#sk-container-id-2 div.sk-parallel-item::after {content: \"\";width: 100%;border-bottom: 1px solid gray;flex-grow: 1;}#sk-container-id-2 div.sk-label:hover label.sk-toggleable__label {background-color: #d4ebff;}#sk-container-id-2 div.sk-serial::before {content: \"\";position: absolute;border-left: 1px solid gray;box-sizing: border-box;top: 0;bottom: 0;left: 50%;z-index: 0;}#sk-container-id-2 div.sk-serial {display: flex;flex-direction: column;align-items: center;background-color: white;padding-right: 0.2em;padding-left: 0.2em;position: relative;}#sk-container-id-2 div.sk-item {position: relative;z-index: 1;}#sk-container-id-2 div.sk-parallel {display: flex;align-items: stretch;justify-content: center;background-color: white;position: relative;}#sk-container-id-2 div.sk-item::before, #sk-container-id-2 div.sk-parallel-item::before {content: \"\";position: absolute;border-left: 1px solid gray;box-sizing: border-box;top: 0;bottom: 0;left: 50%;z-index: -1;}#sk-container-id-2 div.sk-parallel-item {display: flex;flex-direction: column;z-index: 1;position: relative;background-color: white;}#sk-container-id-2 div.sk-parallel-item:first-child::after {align-self: flex-end;width: 50%;}#sk-container-id-2 div.sk-parallel-item:last-child::after {align-self: flex-start;width: 50%;}#sk-container-id-2 div.sk-parallel-item:only-child::after {width: 0;}#sk-container-id-2 div.sk-dashed-wrapped {border: 1px dashed gray;margin: 0 0.4em 0.5em 0.4em;box-sizing: border-box;padding-bottom: 0.4em;background-color: white;}#sk-container-id-2 div.sk-label label {font-family: monospace;font-weight: bold;display: inline-block;line-height: 1.2em;}#sk-container-id-2 div.sk-label-container {text-align: center;}#sk-container-id-2 div.sk-container {/* jupyter's `normalize.less` sets `[hidden] { display: none; }` but bootstrap.min.css set `[hidden] { display: none !important; }` so we also need the `!important` here to be able to override the default hidden behavior on the sphinx rendered scikit-learn.org. See: https://github.com/scikit-learn/scikit-learn/issues/21755 */display: inline-block !important;position: relative;}#sk-container-id-2 div.sk-text-repr-fallback {display: none;}</style><div id=\"sk-container-id-2\" class=\"sk-top-container\"><div class=\"sk-text-repr-fallback\"><pre>LogisticRegression(max_iter=1000)</pre><b>In a Jupyter environment, please rerun this cell to show the HTML representation or trust the notebook. <br />On GitHub, the HTML representation is unable to render, please try loading this page with nbviewer.org.</b></div><div class=\"sk-container\" hidden><div class=\"sk-item\"><div class=\"sk-estimator sk-toggleable\"><input class=\"sk-toggleable__control sk-hidden--visually\" id=\"sk-estimator-id-2\" type=\"checkbox\" checked><label for=\"sk-estimator-id-2\" class=\"sk-toggleable__label sk-toggleable__label-arrow\">LogisticRegression</label><div class=\"sk-toggleable__content\"><pre>LogisticRegression(max_iter=1000)</pre></div></div></div></div></div>"
            ]
          },
          "metadata": {},
          "execution_count": 12
        }
      ]
    },
    {
      "cell_type": "code",
      "source": [
        "from sklearn.metrics import accuracy_score, precision_score, recall_score, confusion_matrix\n",
        "\n",
        "# Making predictions on the test data\n",
        "y_pred = model.predict(X_test)\n",
        "\n",
        "# Evaluation\n",
        "accuracy = accuracy_score(y_test, y_pred)\n",
        "precision = precision_score(y_test, y_pred)\n",
        "recall = recall_score(y_test, y_pred)\n",
        "conf_matrix = confusion_matrix(y_test, y_pred)\n",
        "\n",
        "print(f'Accuracy: {accuracy}')\n",
        "print(f'Precision: {precision}')\n",
        "print(f'Recall: {recall}')\n",
        "print('Confusion Matrix:')\n",
        "print(conf_matrix)"
      ],
      "metadata": {
        "colab": {
          "base_uri": "https://localhost:8080/"
        },
        "id": "qa0EXE49tG17",
        "outputId": "cca86d2b-d89f-495b-ee1b-c2a51e430450"
      },
      "id": "qa0EXE49tG17",
      "execution_count": null,
      "outputs": [
        {
          "output_type": "stream",
          "name": "stdout",
          "text": [
            "Accuracy: 1.0\n",
            "Precision: 1.0\n",
            "Recall: 1.0\n",
            "Confusion Matrix:\n",
            "[[6 0]\n",
            " [0 9]]\n"
          ]
        }
      ]
    }
  ],
  "metadata": {
    "kernelspec": {
      "display_name": "Python 3",
      "name": "python3"
    },
    "language_info": {
      "codemirror_mode": {
        "name": "ipython",
        "version": 3
      },
      "file_extension": ".py",
      "mimetype": "text/x-python",
      "name": "python",
      "nbconvert_exporter": "python",
      "pygments_lexer": "ipython3",
      "version": "3.11.5"
    },
    "colab": {
      "provenance": [],
      "gpuType": "T4",
      "include_colab_link": true
    },
    "accelerator": "GPU"
  },
  "nbformat": 4,
  "nbformat_minor": 5
}